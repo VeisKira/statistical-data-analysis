{
 "cells": [
  {
   "cell_type": "markdown",
   "id": "7c5745e1",
   "metadata": {},
   "source": [
    "# Исследование поведения пользователей сервиса аренды самокатов"
   ]
  },
  {
   "cell_type": "markdown",
   "id": "3160f027",
   "metadata": {},
   "source": [
    "**Задача:** Проверить гипотезы сервиса аренды самокатов, чтобы помочь вырастить бизнес."
   ]
  },
  {
   "cell_type": "markdown",
   "id": "c42cbe00",
   "metadata": {},
   "source": [
    "## Шаг 1. Загрузка данных"
   ]
  },
  {
   "cell_type": "code",
   "execution_count": 1,
   "id": "eff9f206",
   "metadata": {},
   "outputs": [],
   "source": [
    "import pandas as pd\n",
    "import matplotlib as mpl\n",
    "import numpy as np"
   ]
  },
  {
   "cell_type": "markdown",
   "id": "8e4b8d7d",
   "metadata": {},
   "source": [
    "### Считывание файлов"
   ]
  },
  {
   "cell_type": "code",
   "execution_count": 2,
   "id": "72fa6e9b",
   "metadata": {},
   "outputs": [],
   "source": [
    "data_users = pd.read_csv('/datasets/users_go.csv')"
   ]
  },
  {
   "cell_type": "code",
   "execution_count": 3,
   "id": "5882680b",
   "metadata": {},
   "outputs": [],
   "source": [
    "data_rides_go = pd.read_csv('/datasets/rides_go.csv')"
   ]
  },
  {
   "cell_type": "code",
   "execution_count": 4,
   "id": "b543331b",
   "metadata": {},
   "outputs": [],
   "source": [
    "data_subscr_go = pd.read_csv('/datasets/subscriptions_go.csv')"
   ]
  },
  {
   "cell_type": "markdown",
   "id": "c8d3f232",
   "metadata": {},
   "source": [
    "### Вывод первых строк каждого набора"
   ]
  },
  {
   "cell_type": "code",
   "execution_count": 5,
   "id": "2a992c87",
   "metadata": {},
   "outputs": [
    {
     "name": "stdout",
     "output_type": "stream",
     "text": [
      "<class 'pandas.core.frame.DataFrame'>\n",
      "RangeIndex: 1565 entries, 0 to 1564\n",
      "Data columns (total 5 columns):\n",
      " #   Column             Non-Null Count  Dtype \n",
      "---  ------             --------------  ----- \n",
      " 0   user_id            1565 non-null   int64 \n",
      " 1   name               1565 non-null   object\n",
      " 2   age                1565 non-null   int64 \n",
      " 3   city               1565 non-null   object\n",
      " 4   subscription_type  1565 non-null   object\n",
      "dtypes: int64(2), object(3)\n",
      "memory usage: 61.3+ KB\n"
     ]
    }
   ],
   "source": [
    "data_users.info()"
   ]
  },
  {
   "cell_type": "code",
   "execution_count": 6,
   "id": "b43db218",
   "metadata": {},
   "outputs": [
    {
     "data": {
      "text/html": [
       "<div>\n",
       "<style scoped>\n",
       "    .dataframe tbody tr th:only-of-type {\n",
       "        vertical-align: middle;\n",
       "    }\n",
       "\n",
       "    .dataframe tbody tr th {\n",
       "        vertical-align: top;\n",
       "    }\n",
       "\n",
       "    .dataframe thead th {\n",
       "        text-align: right;\n",
       "    }\n",
       "</style>\n",
       "<table border=\"1\" class=\"dataframe\">\n",
       "  <thead>\n",
       "    <tr style=\"text-align: right;\">\n",
       "      <th></th>\n",
       "      <th>user_id</th>\n",
       "      <th>name</th>\n",
       "      <th>age</th>\n",
       "      <th>city</th>\n",
       "      <th>subscription_type</th>\n",
       "    </tr>\n",
       "  </thead>\n",
       "  <tbody>\n",
       "    <tr>\n",
       "      <th>0</th>\n",
       "      <td>1</td>\n",
       "      <td>Кира</td>\n",
       "      <td>22</td>\n",
       "      <td>Тюмень</td>\n",
       "      <td>ultra</td>\n",
       "    </tr>\n",
       "    <tr>\n",
       "      <th>1</th>\n",
       "      <td>2</td>\n",
       "      <td>Станислав</td>\n",
       "      <td>31</td>\n",
       "      <td>Омск</td>\n",
       "      <td>ultra</td>\n",
       "    </tr>\n",
       "    <tr>\n",
       "      <th>2</th>\n",
       "      <td>3</td>\n",
       "      <td>Алексей</td>\n",
       "      <td>20</td>\n",
       "      <td>Москва</td>\n",
       "      <td>ultra</td>\n",
       "    </tr>\n",
       "    <tr>\n",
       "      <th>3</th>\n",
       "      <td>4</td>\n",
       "      <td>Константин</td>\n",
       "      <td>26</td>\n",
       "      <td>Ростов-на-Дону</td>\n",
       "      <td>ultra</td>\n",
       "    </tr>\n",
       "    <tr>\n",
       "      <th>4</th>\n",
       "      <td>5</td>\n",
       "      <td>Адель</td>\n",
       "      <td>28</td>\n",
       "      <td>Омск</td>\n",
       "      <td>ultra</td>\n",
       "    </tr>\n",
       "    <tr>\n",
       "      <th>5</th>\n",
       "      <td>6</td>\n",
       "      <td>Регина</td>\n",
       "      <td>25</td>\n",
       "      <td>Краснодар</td>\n",
       "      <td>ultra</td>\n",
       "    </tr>\n",
       "    <tr>\n",
       "      <th>6</th>\n",
       "      <td>7</td>\n",
       "      <td>Игорь</td>\n",
       "      <td>23</td>\n",
       "      <td>Омск</td>\n",
       "      <td>ultra</td>\n",
       "    </tr>\n",
       "    <tr>\n",
       "      <th>7</th>\n",
       "      <td>8</td>\n",
       "      <td>Юрий</td>\n",
       "      <td>23</td>\n",
       "      <td>Краснодар</td>\n",
       "      <td>ultra</td>\n",
       "    </tr>\n",
       "    <tr>\n",
       "      <th>8</th>\n",
       "      <td>9</td>\n",
       "      <td>Ян</td>\n",
       "      <td>21</td>\n",
       "      <td>Пятигорск</td>\n",
       "      <td>ultra</td>\n",
       "    </tr>\n",
       "    <tr>\n",
       "      <th>9</th>\n",
       "      <td>10</td>\n",
       "      <td>Валерий</td>\n",
       "      <td>18</td>\n",
       "      <td>Екатеринбург</td>\n",
       "      <td>ultra</td>\n",
       "    </tr>\n",
       "  </tbody>\n",
       "</table>\n",
       "</div>"
      ],
      "text/plain": [
       "   user_id        name  age            city subscription_type\n",
       "0        1        Кира   22          Тюмень             ultra\n",
       "1        2   Станислав   31            Омск             ultra\n",
       "2        3     Алексей   20          Москва             ultra\n",
       "3        4  Константин   26  Ростов-на-Дону             ultra\n",
       "4        5       Адель   28            Омск             ultra\n",
       "5        6      Регина   25       Краснодар             ultra\n",
       "6        7       Игорь   23            Омск             ultra\n",
       "7        8        Юрий   23       Краснодар             ultra\n",
       "8        9          Ян   21       Пятигорск             ultra\n",
       "9       10     Валерий   18    Екатеринбург             ultra"
      ]
     },
     "execution_count": 6,
     "metadata": {},
     "output_type": "execute_result"
    }
   ],
   "source": [
    "data_users.head(10)"
   ]
  },
  {
   "cell_type": "code",
   "execution_count": 7,
   "id": "036ec7aa",
   "metadata": {},
   "outputs": [
    {
     "name": "stdout",
     "output_type": "stream",
     "text": [
      "<class 'pandas.core.frame.DataFrame'>\n",
      "RangeIndex: 18068 entries, 0 to 18067\n",
      "Data columns (total 4 columns):\n",
      " #   Column    Non-Null Count  Dtype  \n",
      "---  ------    --------------  -----  \n",
      " 0   user_id   18068 non-null  int64  \n",
      " 1   distance  18068 non-null  float64\n",
      " 2   duration  18068 non-null  float64\n",
      " 3   date      18068 non-null  object \n",
      "dtypes: float64(2), int64(1), object(1)\n",
      "memory usage: 564.8+ KB\n"
     ]
    }
   ],
   "source": [
    "data_rides_go.info()"
   ]
  },
  {
   "cell_type": "code",
   "execution_count": 8,
   "id": "e677a69c",
   "metadata": {},
   "outputs": [
    {
     "data": {
      "text/html": [
       "<div>\n",
       "<style scoped>\n",
       "    .dataframe tbody tr th:only-of-type {\n",
       "        vertical-align: middle;\n",
       "    }\n",
       "\n",
       "    .dataframe tbody tr th {\n",
       "        vertical-align: top;\n",
       "    }\n",
       "\n",
       "    .dataframe thead th {\n",
       "        text-align: right;\n",
       "    }\n",
       "</style>\n",
       "<table border=\"1\" class=\"dataframe\">\n",
       "  <thead>\n",
       "    <tr style=\"text-align: right;\">\n",
       "      <th></th>\n",
       "      <th>user_id</th>\n",
       "      <th>distance</th>\n",
       "      <th>duration</th>\n",
       "      <th>date</th>\n",
       "    </tr>\n",
       "  </thead>\n",
       "  <tbody>\n",
       "    <tr>\n",
       "      <th>0</th>\n",
       "      <td>1</td>\n",
       "      <td>4409.919140</td>\n",
       "      <td>25.599769</td>\n",
       "      <td>2021-01-01</td>\n",
       "    </tr>\n",
       "    <tr>\n",
       "      <th>1</th>\n",
       "      <td>1</td>\n",
       "      <td>2617.592153</td>\n",
       "      <td>15.816871</td>\n",
       "      <td>2021-01-18</td>\n",
       "    </tr>\n",
       "    <tr>\n",
       "      <th>2</th>\n",
       "      <td>1</td>\n",
       "      <td>754.159807</td>\n",
       "      <td>6.232113</td>\n",
       "      <td>2021-04-20</td>\n",
       "    </tr>\n",
       "    <tr>\n",
       "      <th>3</th>\n",
       "      <td>1</td>\n",
       "      <td>2694.783254</td>\n",
       "      <td>18.511000</td>\n",
       "      <td>2021-08-11</td>\n",
       "    </tr>\n",
       "    <tr>\n",
       "      <th>4</th>\n",
       "      <td>1</td>\n",
       "      <td>4028.687306</td>\n",
       "      <td>26.265803</td>\n",
       "      <td>2021-08-28</td>\n",
       "    </tr>\n",
       "    <tr>\n",
       "      <th>5</th>\n",
       "      <td>1</td>\n",
       "      <td>2770.890808</td>\n",
       "      <td>16.650138</td>\n",
       "      <td>2021-10-09</td>\n",
       "    </tr>\n",
       "    <tr>\n",
       "      <th>6</th>\n",
       "      <td>1</td>\n",
       "      <td>3039.020292</td>\n",
       "      <td>14.927879</td>\n",
       "      <td>2021-10-19</td>\n",
       "    </tr>\n",
       "    <tr>\n",
       "      <th>7</th>\n",
       "      <td>1</td>\n",
       "      <td>2842.118050</td>\n",
       "      <td>23.117468</td>\n",
       "      <td>2021-11-06</td>\n",
       "    </tr>\n",
       "    <tr>\n",
       "      <th>8</th>\n",
       "      <td>1</td>\n",
       "      <td>3412.690668</td>\n",
       "      <td>15.238072</td>\n",
       "      <td>2021-11-14</td>\n",
       "    </tr>\n",
       "    <tr>\n",
       "      <th>9</th>\n",
       "      <td>1</td>\n",
       "      <td>748.690645</td>\n",
       "      <td>15.041884</td>\n",
       "      <td>2021-11-22</td>\n",
       "    </tr>\n",
       "  </tbody>\n",
       "</table>\n",
       "</div>"
      ],
      "text/plain": [
       "   user_id     distance   duration        date\n",
       "0        1  4409.919140  25.599769  2021-01-01\n",
       "1        1  2617.592153  15.816871  2021-01-18\n",
       "2        1   754.159807   6.232113  2021-04-20\n",
       "3        1  2694.783254  18.511000  2021-08-11\n",
       "4        1  4028.687306  26.265803  2021-08-28\n",
       "5        1  2770.890808  16.650138  2021-10-09\n",
       "6        1  3039.020292  14.927879  2021-10-19\n",
       "7        1  2842.118050  23.117468  2021-11-06\n",
       "8        1  3412.690668  15.238072  2021-11-14\n",
       "9        1   748.690645  15.041884  2021-11-22"
      ]
     },
     "execution_count": 8,
     "metadata": {},
     "output_type": "execute_result"
    }
   ],
   "source": [
    "data_rides_go.head(10)"
   ]
  },
  {
   "cell_type": "code",
   "execution_count": 9,
   "id": "b95868f0",
   "metadata": {},
   "outputs": [
    {
     "name": "stdout",
     "output_type": "stream",
     "text": [
      "<class 'pandas.core.frame.DataFrame'>\n",
      "RangeIndex: 2 entries, 0 to 1\n",
      "Data columns (total 4 columns):\n",
      " #   Column             Non-Null Count  Dtype \n",
      "---  ------             --------------  ----- \n",
      " 0   subscription_type  2 non-null      object\n",
      " 1   minute_price       2 non-null      int64 \n",
      " 2   start_ride_price   2 non-null      int64 \n",
      " 3   subscription_fee   2 non-null      int64 \n",
      "dtypes: int64(3), object(1)\n",
      "memory usage: 192.0+ bytes\n"
     ]
    }
   ],
   "source": [
    "data_subscr_go.info()"
   ]
  },
  {
   "cell_type": "code",
   "execution_count": 10,
   "id": "600e7d9c",
   "metadata": {},
   "outputs": [
    {
     "data": {
      "text/html": [
       "<div>\n",
       "<style scoped>\n",
       "    .dataframe tbody tr th:only-of-type {\n",
       "        vertical-align: middle;\n",
       "    }\n",
       "\n",
       "    .dataframe tbody tr th {\n",
       "        vertical-align: top;\n",
       "    }\n",
       "\n",
       "    .dataframe thead th {\n",
       "        text-align: right;\n",
       "    }\n",
       "</style>\n",
       "<table border=\"1\" class=\"dataframe\">\n",
       "  <thead>\n",
       "    <tr style=\"text-align: right;\">\n",
       "      <th></th>\n",
       "      <th>subscription_type</th>\n",
       "      <th>minute_price</th>\n",
       "      <th>start_ride_price</th>\n",
       "      <th>subscription_fee</th>\n",
       "    </tr>\n",
       "  </thead>\n",
       "  <tbody>\n",
       "    <tr>\n",
       "      <th>0</th>\n",
       "      <td>free</td>\n",
       "      <td>8</td>\n",
       "      <td>50</td>\n",
       "      <td>0</td>\n",
       "    </tr>\n",
       "    <tr>\n",
       "      <th>1</th>\n",
       "      <td>ultra</td>\n",
       "      <td>6</td>\n",
       "      <td>0</td>\n",
       "      <td>199</td>\n",
       "    </tr>\n",
       "  </tbody>\n",
       "</table>\n",
       "</div>"
      ],
      "text/plain": [
       "  subscription_type  minute_price  start_ride_price  subscription_fee\n",
       "0              free             8                50                 0\n",
       "1             ultra             6                 0               199"
      ]
     },
     "execution_count": 10,
     "metadata": {},
     "output_type": "execute_result"
    }
   ],
   "source": [
    "data_subscr_go.head()"
   ]
  },
  {
   "cell_type": "markdown",
   "id": "1a7b6d9b",
   "metadata": {},
   "source": [
    "### Вывод"
   ]
  },
  {
   "cell_type": "markdown",
   "id": "6503aa5a",
   "metadata": {},
   "source": [
    "Информация о пользователях содержится в датафрейме data_users. В нем описаны данные об имени пользователя, возрасте, городе и типе подписке (есть или нет). Тип данных соотвествует значениям столбцов.\n",
    "\n",
    "Информация о поездках содержится в датафрейме data_rides_go. В нем описаны данные о расстоянии которое преодолел пользователь, продолжительности поездки и дате совершения поездки. Тип данных в столбце date не соответсвует значениям столбца.\n",
    "\n",
    "Информация о подписках содержится в датафрейме data_subscr_go. В нем описаны данные о типе подписке, стоимости одной минуты по данной подписке, стоимости начала поездки и стоимости ежемесячного платежа. Тип данных соответствует значениям столбцов. \n",
    "\n",
    "Датафреймы data_users и data_rides_go связаны между собой по уникальному идентификатору пользователя, а data_subscr_go содержит общую информацию по условиям подписок. "
   ]
  },
  {
   "cell_type": "markdown",
   "id": "e95ebca7",
   "metadata": {},
   "source": [
    "## Шаг 2. Предобработка данных"
   ]
  },
  {
   "cell_type": "markdown",
   "id": "fb56c376",
   "metadata": {},
   "source": [
    "### Перевод столбца date к типу даты pandas"
   ]
  },
  {
   "cell_type": "code",
   "execution_count": 11,
   "id": "3f1c145c",
   "metadata": {},
   "outputs": [],
   "source": [
    "data_rides_go['date'] = pd.to_datetime(data_rides_go['date'], format='%Y-%m-%d', errors='raise')"
   ]
  },
  {
   "cell_type": "markdown",
   "id": "ba1fd37e",
   "metadata": {},
   "source": [
    "*Проверка*"
   ]
  },
  {
   "cell_type": "code",
   "execution_count": 12,
   "id": "574ff884",
   "metadata": {},
   "outputs": [
    {
     "name": "stdout",
     "output_type": "stream",
     "text": [
      "<class 'pandas.core.frame.DataFrame'>\n",
      "RangeIndex: 18068 entries, 0 to 18067\n",
      "Data columns (total 4 columns):\n",
      " #   Column    Non-Null Count  Dtype         \n",
      "---  ------    --------------  -----         \n",
      " 0   user_id   18068 non-null  int64         \n",
      " 1   distance  18068 non-null  float64       \n",
      " 2   duration  18068 non-null  float64       \n",
      " 3   date      18068 non-null  datetime64[ns]\n",
      "dtypes: datetime64[ns](1), float64(2), int64(1)\n",
      "memory usage: 564.8 KB\n"
     ]
    }
   ],
   "source": [
    "data_rides_go.info()"
   ]
  },
  {
   "cell_type": "markdown",
   "id": "e5ef7066",
   "metadata": {},
   "source": [
    "### Создание нового столбца с номером месяца на основе столбца date"
   ]
  },
  {
   "cell_type": "code",
   "execution_count": 13,
   "id": "c85be6ee",
   "metadata": {},
   "outputs": [],
   "source": [
    "data_rides_go['month_number'] = data_rides_go['date'].dt.month"
   ]
  },
  {
   "cell_type": "markdown",
   "id": "52378f77",
   "metadata": {},
   "source": [
    "*Проверка:*"
   ]
  },
  {
   "cell_type": "code",
   "execution_count": 14,
   "id": "729586fd",
   "metadata": {},
   "outputs": [
    {
     "name": "stdout",
     "output_type": "stream",
     "text": [
      "<class 'pandas.core.frame.DataFrame'>\n",
      "RangeIndex: 18068 entries, 0 to 18067\n",
      "Data columns (total 5 columns):\n",
      " #   Column        Non-Null Count  Dtype         \n",
      "---  ------        --------------  -----         \n",
      " 0   user_id       18068 non-null  int64         \n",
      " 1   distance      18068 non-null  float64       \n",
      " 2   duration      18068 non-null  float64       \n",
      " 3   date          18068 non-null  datetime64[ns]\n",
      " 4   month_number  18068 non-null  int64         \n",
      "dtypes: datetime64[ns](1), float64(2), int64(2)\n",
      "memory usage: 705.9 KB\n"
     ]
    }
   ],
   "source": [
    "data_rides_go.info()"
   ]
  },
  {
   "cell_type": "code",
   "execution_count": 15,
   "id": "f9f7101a",
   "metadata": {},
   "outputs": [
    {
     "data": {
      "text/html": [
       "<div>\n",
       "<style scoped>\n",
       "    .dataframe tbody tr th:only-of-type {\n",
       "        vertical-align: middle;\n",
       "    }\n",
       "\n",
       "    .dataframe tbody tr th {\n",
       "        vertical-align: top;\n",
       "    }\n",
       "\n",
       "    .dataframe thead th {\n",
       "        text-align: right;\n",
       "    }\n",
       "</style>\n",
       "<table border=\"1\" class=\"dataframe\">\n",
       "  <thead>\n",
       "    <tr style=\"text-align: right;\">\n",
       "      <th></th>\n",
       "      <th>user_id</th>\n",
       "      <th>distance</th>\n",
       "      <th>duration</th>\n",
       "      <th>date</th>\n",
       "      <th>month_number</th>\n",
       "    </tr>\n",
       "  </thead>\n",
       "  <tbody>\n",
       "    <tr>\n",
       "      <th>0</th>\n",
       "      <td>1</td>\n",
       "      <td>4409.919140</td>\n",
       "      <td>25.599769</td>\n",
       "      <td>2021-01-01</td>\n",
       "      <td>1</td>\n",
       "    </tr>\n",
       "    <tr>\n",
       "      <th>1</th>\n",
       "      <td>1</td>\n",
       "      <td>2617.592153</td>\n",
       "      <td>15.816871</td>\n",
       "      <td>2021-01-18</td>\n",
       "      <td>1</td>\n",
       "    </tr>\n",
       "    <tr>\n",
       "      <th>2</th>\n",
       "      <td>1</td>\n",
       "      <td>754.159807</td>\n",
       "      <td>6.232113</td>\n",
       "      <td>2021-04-20</td>\n",
       "      <td>4</td>\n",
       "    </tr>\n",
       "    <tr>\n",
       "      <th>3</th>\n",
       "      <td>1</td>\n",
       "      <td>2694.783254</td>\n",
       "      <td>18.511000</td>\n",
       "      <td>2021-08-11</td>\n",
       "      <td>8</td>\n",
       "    </tr>\n",
       "    <tr>\n",
       "      <th>4</th>\n",
       "      <td>1</td>\n",
       "      <td>4028.687306</td>\n",
       "      <td>26.265803</td>\n",
       "      <td>2021-08-28</td>\n",
       "      <td>8</td>\n",
       "    </tr>\n",
       "  </tbody>\n",
       "</table>\n",
       "</div>"
      ],
      "text/plain": [
       "   user_id     distance   duration       date  month_number\n",
       "0        1  4409.919140  25.599769 2021-01-01             1\n",
       "1        1  2617.592153  15.816871 2021-01-18             1\n",
       "2        1   754.159807   6.232113 2021-04-20             4\n",
       "3        1  2694.783254  18.511000 2021-08-11             8\n",
       "4        1  4028.687306  26.265803 2021-08-28             8"
      ]
     },
     "execution_count": 15,
     "metadata": {},
     "output_type": "execute_result"
    }
   ],
   "source": [
    "data_rides_go.head()"
   ]
  },
  {
   "cell_type": "markdown",
   "id": "503ce5ea",
   "metadata": {},
   "source": [
    "### Работа с пропусками и дубликатами"
   ]
  },
  {
   "cell_type": "markdown",
   "id": "92bfab97",
   "metadata": {},
   "source": [
    "**Датафрейм о пользователях**"
   ]
  },
  {
   "cell_type": "markdown",
   "id": "44b9d5ec",
   "metadata": {},
   "source": [
    "*Наличие пропущенных значений:*"
   ]
  },
  {
   "cell_type": "code",
   "execution_count": 16,
   "id": "1e2093fd",
   "metadata": {},
   "outputs": [
    {
     "data": {
      "text/plain": [
       "user_id              0\n",
       "name                 0\n",
       "age                  0\n",
       "city                 0\n",
       "subscription_type    0\n",
       "dtype: int64"
      ]
     },
     "execution_count": 16,
     "metadata": {},
     "output_type": "execute_result"
    }
   ],
   "source": [
    "data_users.isna().sum()"
   ]
  },
  {
   "cell_type": "markdown",
   "id": "4084e57a",
   "metadata": {},
   "source": [
    "*Пропущенных значений не выявлено*"
   ]
  },
  {
   "cell_type": "markdown",
   "id": "aa250f00",
   "metadata": {},
   "source": [
    "*Наличие явных дубликатов:*"
   ]
  },
  {
   "cell_type": "code",
   "execution_count": 17,
   "id": "0b1e0f1f",
   "metadata": {},
   "outputs": [
    {
     "data": {
      "text/plain": [
       "31"
      ]
     },
     "execution_count": 17,
     "metadata": {},
     "output_type": "execute_result"
    }
   ],
   "source": [
    "data_users.duplicated().sum()"
   ]
  },
  {
   "cell_type": "markdown",
   "id": "1c6a3af9",
   "metadata": {},
   "source": [
    "*Удаление явных дубликатов*"
   ]
  },
  {
   "cell_type": "code",
   "execution_count": 18,
   "id": "84368b41",
   "metadata": {},
   "outputs": [],
   "source": [
    "data_users = data_users.drop_duplicates()"
   ]
  },
  {
   "cell_type": "markdown",
   "id": "7ba0d88d",
   "metadata": {},
   "source": [
    "*Проверка:*"
   ]
  },
  {
   "cell_type": "code",
   "execution_count": 19,
   "id": "d5d15f0d",
   "metadata": {},
   "outputs": [
    {
     "data": {
      "text/plain": [
       "0"
      ]
     },
     "execution_count": 19,
     "metadata": {},
     "output_type": "execute_result"
    }
   ],
   "source": [
    "data_users.duplicated().sum()"
   ]
  },
  {
   "cell_type": "markdown",
   "id": "ad266e1a",
   "metadata": {},
   "source": [
    "*Упорядочивание индексов после удаления*"
   ]
  },
  {
   "cell_type": "code",
   "execution_count": 20,
   "id": "5684096b",
   "metadata": {},
   "outputs": [],
   "source": [
    "data_users = data_users.reset_index(drop=True)"
   ]
  },
  {
   "cell_type": "code",
   "execution_count": 21,
   "id": "7a7a6a79",
   "metadata": {},
   "outputs": [
    {
     "data": {
      "text/html": [
       "<div>\n",
       "<style scoped>\n",
       "    .dataframe tbody tr th:only-of-type {\n",
       "        vertical-align: middle;\n",
       "    }\n",
       "\n",
       "    .dataframe tbody tr th {\n",
       "        vertical-align: top;\n",
       "    }\n",
       "\n",
       "    .dataframe thead th {\n",
       "        text-align: right;\n",
       "    }\n",
       "</style>\n",
       "<table border=\"1\" class=\"dataframe\">\n",
       "  <thead>\n",
       "    <tr style=\"text-align: right;\">\n",
       "      <th></th>\n",
       "      <th>user_id</th>\n",
       "      <th>name</th>\n",
       "      <th>age</th>\n",
       "      <th>city</th>\n",
       "      <th>subscription_type</th>\n",
       "    </tr>\n",
       "  </thead>\n",
       "  <tbody>\n",
       "    <tr>\n",
       "      <th>0</th>\n",
       "      <td>1</td>\n",
       "      <td>Кира</td>\n",
       "      <td>22</td>\n",
       "      <td>Тюмень</td>\n",
       "      <td>ultra</td>\n",
       "    </tr>\n",
       "    <tr>\n",
       "      <th>1</th>\n",
       "      <td>2</td>\n",
       "      <td>Станислав</td>\n",
       "      <td>31</td>\n",
       "      <td>Омск</td>\n",
       "      <td>ultra</td>\n",
       "    </tr>\n",
       "    <tr>\n",
       "      <th>2</th>\n",
       "      <td>3</td>\n",
       "      <td>Алексей</td>\n",
       "      <td>20</td>\n",
       "      <td>Москва</td>\n",
       "      <td>ultra</td>\n",
       "    </tr>\n",
       "    <tr>\n",
       "      <th>3</th>\n",
       "      <td>4</td>\n",
       "      <td>Константин</td>\n",
       "      <td>26</td>\n",
       "      <td>Ростов-на-Дону</td>\n",
       "      <td>ultra</td>\n",
       "    </tr>\n",
       "    <tr>\n",
       "      <th>4</th>\n",
       "      <td>5</td>\n",
       "      <td>Адель</td>\n",
       "      <td>28</td>\n",
       "      <td>Омск</td>\n",
       "      <td>ultra</td>\n",
       "    </tr>\n",
       "  </tbody>\n",
       "</table>\n",
       "</div>"
      ],
      "text/plain": [
       "   user_id        name  age            city subscription_type\n",
       "0        1        Кира   22          Тюмень             ultra\n",
       "1        2   Станислав   31            Омск             ultra\n",
       "2        3     Алексей   20          Москва             ultra\n",
       "3        4  Константин   26  Ростов-на-Дону             ultra\n",
       "4        5       Адель   28            Омск             ultra"
      ]
     },
     "execution_count": 21,
     "metadata": {},
     "output_type": "execute_result"
    }
   ],
   "source": [
    "data_users.head()"
   ]
  },
  {
   "cell_type": "markdown",
   "id": "8013f73f",
   "metadata": {},
   "source": [
    "**Датафрейм о поездках**"
   ]
  },
  {
   "cell_type": "markdown",
   "id": "80016ee6",
   "metadata": {},
   "source": [
    "*Наличие пропущенных значений*"
   ]
  },
  {
   "cell_type": "code",
   "execution_count": 22,
   "id": "3171f034",
   "metadata": {},
   "outputs": [
    {
     "data": {
      "text/plain": [
       "user_id         0\n",
       "distance        0\n",
       "duration        0\n",
       "date            0\n",
       "month_number    0\n",
       "dtype: int64"
      ]
     },
     "execution_count": 22,
     "metadata": {},
     "output_type": "execute_result"
    }
   ],
   "source": [
    "data_rides_go.isna().sum()"
   ]
  },
  {
   "cell_type": "markdown",
   "id": "c19e1908",
   "metadata": {},
   "source": [
    "*Пропущенных значений не выявлено*"
   ]
  },
  {
   "cell_type": "markdown",
   "id": "ff969f30",
   "metadata": {},
   "source": [
    "*Наличие явных дубликатов:*"
   ]
  },
  {
   "cell_type": "code",
   "execution_count": 23,
   "id": "d976f4dd",
   "metadata": {},
   "outputs": [
    {
     "data": {
      "text/plain": [
       "0"
      ]
     },
     "execution_count": 23,
     "metadata": {},
     "output_type": "execute_result"
    }
   ],
   "source": [
    "data_rides_go.duplicated().sum()"
   ]
  },
  {
   "cell_type": "markdown",
   "id": "b9ec2777",
   "metadata": {},
   "source": [
    "*Явных дубликатов не выявлено*"
   ]
  },
  {
   "cell_type": "markdown",
   "id": "2387d346",
   "metadata": {},
   "source": [
    "**Датафрейм о подписках содержит общую информацию о тарифах и не нуждается в проверке**"
   ]
  },
  {
   "cell_type": "markdown",
   "id": "31107710",
   "metadata": {},
   "source": [
    "### Вывод"
   ]
  },
  {
   "cell_type": "markdown",
   "id": "f096f907",
   "metadata": {},
   "source": [
    "Датафрейм о пользователях:\n",
    "\n",
    "- пропущенных значений не выявлено\n",
    "- удалены явные дубликаты\n",
    "- неявные дубликаты не выявлены, возможно по причине того, что при сборе данных каждому пользователю присваивают свой уникальный номер\n",
    "\n",
    "Датафрейм о поездках:\n",
    "\n",
    "- пропущенных значений не выявлено\n",
    "- явных дубликатов не выявлено\n",
    "- неявные дубликаты не выявлены, возможно по причине того, что при сборе данных каждому пользователю присваивают свой уникальный номер\n",
    "\n",
    "Датафрейм о подписках содержит общую информацию о тарифах и не нуждается в проверке"
   ]
  },
  {
   "cell_type": "markdown",
   "id": "212593c7",
   "metadata": {},
   "source": [
    "## Шаг 3. Исследовательский анализ данных"
   ]
  },
  {
   "cell_type": "markdown",
   "id": "0748a94c",
   "metadata": {},
   "source": [
    "### Описание и визуализация информации о частоте встречаемости городов"
   ]
  },
  {
   "cell_type": "code",
   "execution_count": 24,
   "id": "26681858",
   "metadata": {},
   "outputs": [
    {
     "data": {
      "text/plain": [
       "city\n",
       "Пятигорск         219\n",
       "Екатеринбург      204\n",
       "Ростов-на-Дону    198\n",
       "Краснодар         193\n",
       "Сочи              189\n",
       "Омск              183\n",
       "Тюмень            180\n",
       "Москва            168\n",
       "Name: city, dtype: int64"
      ]
     },
     "metadata": {},
     "output_type": "display_data"
    }
   ],
   "source": [
    "display(data_users.groupby('city')['city'].count().sort_values(ascending=False))"
   ]
  },
  {
   "cell_type": "markdown",
   "id": "a10fd00c",
   "metadata": {},
   "source": [
    "**Чаще других самокаты в аренду берут в Пятигорске, реже всего в Москве.**"
   ]
  },
  {
   "cell_type": "code",
   "execution_count": 25,
   "id": "1994f771",
   "metadata": {},
   "outputs": [
    {
     "data": {
      "text/plain": [
       "<AxesSubplot:title={'center':'Визуализация информации о частоте встречаемости городов'}, ylabel='city'>"
      ]
     },
     "execution_count": 25,
     "metadata": {},
     "output_type": "execute_result"
    },
    {
     "data": {
      "image/png": "[encoded data removed]",
      "text/plain": [
       "<Figure size 504x288 with 1 Axes>"
      ]
     },
     "metadata": {
      "needs_background": "light"
     },
     "output_type": "display_data"
    }
   ],
   "source": [
    "((data_users.groupby('city')['city'].count().sort_values()).plot(kind='barh', grid=True, figsize=(7, 4), alpha=0.5, legend=True, title='Визуализация информации о частоте встречаемости городов'))"
   ]
  },
  {
   "cell_type": "markdown",
   "id": "67619315",
   "metadata": {},
   "source": [
    "*По диаграмме можно отметить, что распределение значений практически находится на одном уровне, с незначительным отрывом.*"
   ]
  },
  {
   "cell_type": "markdown",
   "id": "4234318f",
   "metadata": {},
   "source": [
    "### Описание и визуализация информации о соотношении пользователей с подпиской и без подписки"
   ]
  },
  {
   "cell_type": "code",
   "execution_count": 26,
   "id": "66f0a2cd",
   "metadata": {},
   "outputs": [
    {
     "data": {
      "text/plain": [
       "subscription_type\n",
       "free     835\n",
       "ultra    699\n",
       "Name: subscription_type, dtype: int64"
      ]
     },
     "metadata": {},
     "output_type": "display_data"
    }
   ],
   "source": [
    "display(data_users.groupby('subscription_type')['subscription_type'].count())"
   ]
  },
  {
   "cell_type": "markdown",
   "id": "0cb9e78e",
   "metadata": {},
   "source": [
    "*Безусловно пользователь предпочитает получать услугу дешевле, поэтому число пользователей без подписки превосходит число пользователей с подпиской, хотя и с небольшим отрывом. Возможно это связано также с тем, что некоторые пользователи лишь время от времени используют самокаты и в связи с эти не хотят оформлять подписку.*"
   ]
  },
  {
   "cell_type": "code",
   "execution_count": 27,
   "id": "c0854468",
   "metadata": {},
   "outputs": [
    {
     "data": {
      "text/plain": [
       "<AxesSubplot:title={'center':'Визуализация информации о соотношении пользователей с подпиской и без подписки'}, ylabel='subscription_type'>"
      ]
     },
     "execution_count": 27,
     "metadata": {},
     "output_type": "execute_result"
    },
    {
     "data": {
      "image/png": "[encoded data removed]",
      "text/plain": [
       "<Figure size 432x432 with 1 Axes>"
      ]
     },
     "metadata": {},
     "output_type": "display_data"
    }
   ],
   "source": [
    "((data_users.groupby('subscription_type')['subscription_type'].count()).plot(kind='pie', figsize=(6, 6), legend=True, autopct='%.1f', title='Визуализация информации о соотношении пользователей с подпиской и без подписки'))\n"
   ]
  },
  {
   "cell_type": "markdown",
   "id": "1785e3a3",
   "metadata": {},
   "source": [
    "**Пользователей без подписки - 54%, с подпиской - 46%.**"
   ]
  },
  {
   "cell_type": "markdown",
   "id": "9958b741",
   "metadata": {},
   "source": [
    "### Описание и визуализация информации о возрасте пользователей"
   ]
  },
  {
   "cell_type": "code",
   "execution_count": 28,
   "id": "4be59f80",
   "metadata": {},
   "outputs": [
    {
     "data": {
      "text/plain": [
       "count    1534.000000\n",
       "mean       24.903520\n",
       "std         4.572367\n",
       "min        12.000000\n",
       "25%        22.000000\n",
       "50%        25.000000\n",
       "75%        28.000000\n",
       "max        43.000000\n",
       "Name: age, dtype: float64"
      ]
     },
     "execution_count": 28,
     "metadata": {},
     "output_type": "execute_result"
    }
   ],
   "source": [
    "data_users['age'].describe()"
   ]
  },
  {
   "cell_type": "markdown",
   "id": "d452ea22",
   "metadata": {},
   "source": [
    "*Средний возраст пользователей 25 лет, минимальный 12 лет и самые возрастные пользователи это лица в возрасте 43 лет.*"
   ]
  },
  {
   "cell_type": "code",
   "execution_count": 29,
   "id": "f9d0b532",
   "metadata": {},
   "outputs": [
    {
     "data": {
      "text/plain": [
       "<AxesSubplot:title={'center':'Визуализация информации о возрасте пользователей'}, xlabel='age'>"
      ]
     },
     "execution_count": 29,
     "metadata": {},
     "output_type": "execute_result"
    },
    {
     "data": {
      "image/png": "[encoded data removed]",
      "text/plain": [
       "<Figure size 504x288 with 1 Axes>"
      ]
     },
     "metadata": {
      "needs_background": "light"
     },
     "output_type": "display_data"
    }
   ],
   "source": [
    "(data_users.groupby('age')['age'].count().plot(kind='bar', grid=True, legend=True, alpha=0.5, figsize=(7, 4), title='Визуализация информации о возрасте пользователей'))"
   ]
  },
  {
   "cell_type": "markdown",
   "id": "c067497c",
   "metadata": {},
   "source": [
    "**По диаграмме можно отметить, что чаще остальных услугой пользуются лица в возрасте от 20 до 30 лет.**"
   ]
  },
  {
   "cell_type": "markdown",
   "id": "6940cf97",
   "metadata": {},
   "source": [
    "### Описание и визуализация информации о расстоянии, которое пользователь преодолел за одну поездку"
   ]
  },
  {
   "cell_type": "code",
   "execution_count": 30,
   "id": "961821d9",
   "metadata": {},
   "outputs": [
    {
     "data": {
      "text/plain": [
       "count    18068.000000\n",
       "mean      3070.659976\n",
       "std       1116.831209\n",
       "min          0.855683\n",
       "25%       2543.226360\n",
       "50%       3133.609994\n",
       "75%       3776.222735\n",
       "max       7211.007745\n",
       "Name: distance, dtype: float64"
      ]
     },
     "execution_count": 30,
     "metadata": {},
     "output_type": "execute_result"
    }
   ],
   "source": [
    "data_rides_go['distance'].describe()"
   ]
  },
  {
   "cell_type": "markdown",
   "id": "953e36ae",
   "metadata": {},
   "source": [
    "*В среднем пользователь за одну поездку преодолевает расстояние около 3 км.*"
   ]
  },
  {
   "cell_type": "code",
   "execution_count": 31,
   "id": "86561d92",
   "metadata": {},
   "outputs": [
    {
     "data": {
      "text/plain": [
       "<AxesSubplot:title={'center':'Визуализация информации о расстоянии, которое пользователь преодолел за одну поездку'}, ylabel='Frequency'>"
      ]
     },
     "execution_count": 31,
     "metadata": {},
     "output_type": "execute_result"
    },
    {
     "data": {
      "image/png": "[encoded data removed]",
      "text/plain": [
       "<Figure size 360x288 with 1 Axes>"
      ]
     },
     "metadata": {
      "needs_background": "light"
     },
     "output_type": "display_data"
    }
   ],
   "source": [
    "data_rides_go['distance'].plot(kind='hist', bins=100, grid=True, legend=True, alpha=0.5, figsize=(5, 4), title='Визуализация информации о расстоянии, которое пользователь преодолел за одну поездку')"
   ]
  },
  {
   "cell_type": "markdown",
   "id": "3a350d20",
   "metadata": {},
   "source": [
    "**По визуализации данных можно определить две группы пользователей: одна которая использует самокат для расстояний до 1,5 км, другая, та, что использует самокат от 1,5 км и до 7 км. Чаще всего люди предпочитают брать самокат на расстояния от 2 км и до 4,5 км.**"
   ]
  },
  {
   "cell_type": "markdown",
   "id": "7189c9ca",
   "metadata": {},
   "source": [
    "### Описание и визуализация информации о продолжительности поездок"
   ]
  },
  {
   "cell_type": "code",
   "execution_count": 32,
   "id": "464cfc1a",
   "metadata": {},
   "outputs": [
    {
     "data": {
      "text/plain": [
       "count    18068.000000\n",
       "mean        17.805011\n",
       "std          6.091051\n",
       "min          0.500000\n",
       "25%         13.597563\n",
       "50%         17.678395\n",
       "75%         21.724800\n",
       "max         40.823963\n",
       "Name: duration, dtype: float64"
      ]
     },
     "execution_count": 32,
     "metadata": {},
     "output_type": "execute_result"
    }
   ],
   "source": [
    "data_rides_go['duration'].describe()"
   ]
  },
  {
   "cell_type": "markdown",
   "id": "37028c7d",
   "metadata": {},
   "source": [
    "*В среднем пользователь тратит около 18 минут на одну поездку. Максимальное время поездки 41 минута.*"
   ]
  },
  {
   "cell_type": "code",
   "execution_count": 33,
   "id": "0167c3a5",
   "metadata": {},
   "outputs": [
    {
     "data": {
      "text/plain": [
       "<AxesSubplot:title={'center':'Визуализация информации о продолжительности поездок'}, ylabel='Frequency'>"
      ]
     },
     "execution_count": 33,
     "metadata": {},
     "output_type": "execute_result"
    },
    {
     "data": {
      "image/png": "[encoded data removed]",
      "text/plain": [
       "<Figure size 360x288 with 1 Axes>"
      ]
     },
     "metadata": {
      "needs_background": "light"
     },
     "output_type": "display_data"
    }
   ],
   "source": [
    "data_rides_go['duration'].plot(kind='hist', bins=100, grid=True, legend=True, alpha=0.5, figsize=(5, 4), title='Визуализация информации о продолжительности поездок')"
   ]
  },
  {
   "cell_type": "markdown",
   "id": "d1b374f7",
   "metadata": {},
   "source": [
    "**Согласно визуализации данных чаще всего длительность поездки составляет от 10 до 25 минут.**"
   ]
  },
  {
   "cell_type": "markdown",
   "id": "a32a7eda",
   "metadata": {},
   "source": [
    "*В районе нулевого значения имеется пик в данных, вероятнее всего это может быть связано с ситуациями когда пользователь взял разряженный или неисправный самокат, а также возможно были финансовые трудности или вдруг началась сильная непогода.*"
   ]
  },
  {
   "cell_type": "markdown",
   "id": "f269a8d8",
   "metadata": {},
   "source": [
    "### Вывод"
   ]
  },
  {
   "cell_type": "markdown",
   "id": "5e6de718",
   "metadata": {},
   "source": [
    "**Описание информации о частоте встречаемости городов:**\n",
    "\n",
    "- чаще других самокаты в аренду берут в Пятигорске, реже всего в Москве\n",
    "- распределение значений практически находится на одном уровне, с незначительным отрывом между городами\n",
    "\n",
    "**Описание информации о соотношении пользователей с подпиской и без подписки:**\n",
    "\n",
    "- число пользователей без подписки превосходит число пользователей с подпиской, хотя и с небольшим отрывом. Возможно это связано также с тем, что некоторые пользователи лишь время от времени используют самокаты и в связи с эти не хотят оформлять подписку\n",
    "- пользователей без подписки - 54%, с подпиской - 46%\n",
    "\n",
    "**Описание информации о возрасте пользователей:**\n",
    "\n",
    "- средний возраст пользователей 25 лет, минимальный 12 лет и самые возрастные пользователи это лица в возрасте 43 лет\n",
    "- чаще остальных услугой пользуются лица в возрасте от 20 до 30 лет\n",
    "\n",
    "**Описание информации о расстоянии, которое пользователь преодолел за одну поездку:**\n",
    "\n",
    "- в среднем пользователь за одну поездку преодолевает расстояние около 3 км\n",
    "- по визуализации данных можно определить две группы пользователей: одна которая использует самокат для расстояний до 1,5 км, другая, та, что использует самокат от 1,5 км и до 7 км. Чаще всего люди предпочитают брать самокат на расстояния от 2 км и до 4,5 км\n",
    "\n",
    "**Описание и визуализация информации о продолжительности поездок:**\n",
    "\n",
    "- в среднем пользователь тратит около 18 минут на одну поездку, максимальное время поездки 41 минута\n",
    "- чаще всего длительность поездки составляет от 10 до 25 минут\n",
    "- в районе нулевого значения имеется пик в данных, вероятнее всего это может быть связано с ситуациями когда пользователь взял разряженный или неисправный самокат, а также возможно были финансовые трудности или вдруг началась сильная непогода"
   ]
  },
  {
   "cell_type": "markdown",
   "id": "4ef51331",
   "metadata": {},
   "source": [
    "## Шаг 4. Объединение данных"
   ]
  },
  {
   "cell_type": "markdown",
   "id": "ff7b9536",
   "metadata": {},
   "source": [
    "### Объединение данных о пользователях, поездках и подписках в один датафрейм"
   ]
  },
  {
   "cell_type": "code",
   "execution_count": 34,
   "id": "d151a4af",
   "metadata": {},
   "outputs": [],
   "source": [
    "data_common = data_users.merge(data_rides_go, on='user_id', how='left')"
   ]
  },
  {
   "cell_type": "code",
   "execution_count": 35,
   "id": "acc7f9c5",
   "metadata": {},
   "outputs": [],
   "source": [
    "data_common = data_common.merge(data_subscr_go, on='subscription_type', how='left')"
   ]
  },
  {
   "cell_type": "markdown",
   "id": "b502626b",
   "metadata": {},
   "source": [
    "*Проверка:*"
   ]
  },
  {
   "cell_type": "code",
   "execution_count": 36,
   "id": "fb5d2582",
   "metadata": {},
   "outputs": [
    {
     "name": "stdout",
     "output_type": "stream",
     "text": [
      "<class 'pandas.core.frame.DataFrame'>\n",
      "Int64Index: 18068 entries, 0 to 18067\n",
      "Data columns (total 12 columns):\n",
      " #   Column             Non-Null Count  Dtype         \n",
      "---  ------             --------------  -----         \n",
      " 0   user_id            18068 non-null  int64         \n",
      " 1   name               18068 non-null  object        \n",
      " 2   age                18068 non-null  int64         \n",
      " 3   city               18068 non-null  object        \n",
      " 4   subscription_type  18068 non-null  object        \n",
      " 5   distance           18068 non-null  float64       \n",
      " 6   duration           18068 non-null  float64       \n",
      " 7   date               18068 non-null  datetime64[ns]\n",
      " 8   month_number       18068 non-null  int64         \n",
      " 9   minute_price       18068 non-null  int64         \n",
      " 10  start_ride_price   18068 non-null  int64         \n",
      " 11  subscription_fee   18068 non-null  int64         \n",
      "dtypes: datetime64[ns](1), float64(2), int64(6), object(3)\n",
      "memory usage: 1.8+ MB\n"
     ]
    }
   ],
   "source": [
    "data_common.info()"
   ]
  },
  {
   "cell_type": "code",
   "execution_count": 37,
   "id": "207b35a1",
   "metadata": {},
   "outputs": [
    {
     "data": {
      "text/plain": [
       "user_id              0\n",
       "name                 0\n",
       "age                  0\n",
       "city                 0\n",
       "subscription_type    0\n",
       "distance             0\n",
       "duration             0\n",
       "date                 0\n",
       "month_number         0\n",
       "minute_price         0\n",
       "start_ride_price     0\n",
       "subscription_fee     0\n",
       "dtype: int64"
      ]
     },
     "execution_count": 37,
     "metadata": {},
     "output_type": "execute_result"
    }
   ],
   "source": [
    "data_common.isna().sum() # на всякий случай проверка на пропуски"
   ]
  },
  {
   "cell_type": "markdown",
   "id": "7d696565",
   "metadata": {},
   "source": [
    "*Упорядочивание индексов после объединения:*"
   ]
  },
  {
   "cell_type": "code",
   "execution_count": 38,
   "id": "9bc7a912",
   "metadata": {},
   "outputs": [
    {
     "data": {
      "text/html": [
       "<div>\n",
       "<style scoped>\n",
       "    .dataframe tbody tr th:only-of-type {\n",
       "        vertical-align: middle;\n",
       "    }\n",
       "\n",
       "    .dataframe tbody tr th {\n",
       "        vertical-align: top;\n",
       "    }\n",
       "\n",
       "    .dataframe thead th {\n",
       "        text-align: right;\n",
       "    }\n",
       "</style>\n",
       "<table border=\"1\" class=\"dataframe\">\n",
       "  <thead>\n",
       "    <tr style=\"text-align: right;\">\n",
       "      <th></th>\n",
       "      <th>user_id</th>\n",
       "      <th>name</th>\n",
       "      <th>age</th>\n",
       "      <th>city</th>\n",
       "      <th>subscription_type</th>\n",
       "      <th>distance</th>\n",
       "      <th>duration</th>\n",
       "      <th>date</th>\n",
       "      <th>month_number</th>\n",
       "      <th>minute_price</th>\n",
       "      <th>start_ride_price</th>\n",
       "      <th>subscription_fee</th>\n",
       "    </tr>\n",
       "  </thead>\n",
       "  <tbody>\n",
       "    <tr>\n",
       "      <th>0</th>\n",
       "      <td>1</td>\n",
       "      <td>Кира</td>\n",
       "      <td>22</td>\n",
       "      <td>Тюмень</td>\n",
       "      <td>ultra</td>\n",
       "      <td>4409.919140</td>\n",
       "      <td>25.599769</td>\n",
       "      <td>2021-01-01</td>\n",
       "      <td>1</td>\n",
       "      <td>6</td>\n",
       "      <td>0</td>\n",
       "      <td>199</td>\n",
       "    </tr>\n",
       "    <tr>\n",
       "      <th>1</th>\n",
       "      <td>1</td>\n",
       "      <td>Кира</td>\n",
       "      <td>22</td>\n",
       "      <td>Тюмень</td>\n",
       "      <td>ultra</td>\n",
       "      <td>2617.592153</td>\n",
       "      <td>15.816871</td>\n",
       "      <td>2021-01-18</td>\n",
       "      <td>1</td>\n",
       "      <td>6</td>\n",
       "      <td>0</td>\n",
       "      <td>199</td>\n",
       "    </tr>\n",
       "    <tr>\n",
       "      <th>2</th>\n",
       "      <td>1</td>\n",
       "      <td>Кира</td>\n",
       "      <td>22</td>\n",
       "      <td>Тюмень</td>\n",
       "      <td>ultra</td>\n",
       "      <td>754.159807</td>\n",
       "      <td>6.232113</td>\n",
       "      <td>2021-04-20</td>\n",
       "      <td>4</td>\n",
       "      <td>6</td>\n",
       "      <td>0</td>\n",
       "      <td>199</td>\n",
       "    </tr>\n",
       "    <tr>\n",
       "      <th>3</th>\n",
       "      <td>1</td>\n",
       "      <td>Кира</td>\n",
       "      <td>22</td>\n",
       "      <td>Тюмень</td>\n",
       "      <td>ultra</td>\n",
       "      <td>2694.783254</td>\n",
       "      <td>18.511000</td>\n",
       "      <td>2021-08-11</td>\n",
       "      <td>8</td>\n",
       "      <td>6</td>\n",
       "      <td>0</td>\n",
       "      <td>199</td>\n",
       "    </tr>\n",
       "    <tr>\n",
       "      <th>4</th>\n",
       "      <td>1</td>\n",
       "      <td>Кира</td>\n",
       "      <td>22</td>\n",
       "      <td>Тюмень</td>\n",
       "      <td>ultra</td>\n",
       "      <td>4028.687306</td>\n",
       "      <td>26.265803</td>\n",
       "      <td>2021-08-28</td>\n",
       "      <td>8</td>\n",
       "      <td>6</td>\n",
       "      <td>0</td>\n",
       "      <td>199</td>\n",
       "    </tr>\n",
       "    <tr>\n",
       "      <th>...</th>\n",
       "      <td>...</td>\n",
       "      <td>...</td>\n",
       "      <td>...</td>\n",
       "      <td>...</td>\n",
       "      <td>...</td>\n",
       "      <td>...</td>\n",
       "      <td>...</td>\n",
       "      <td>...</td>\n",
       "      <td>...</td>\n",
       "      <td>...</td>\n",
       "      <td>...</td>\n",
       "      <td>...</td>\n",
       "    </tr>\n",
       "    <tr>\n",
       "      <th>18063</th>\n",
       "      <td>1534</td>\n",
       "      <td>Альберт</td>\n",
       "      <td>25</td>\n",
       "      <td>Краснодар</td>\n",
       "      <td>free</td>\n",
       "      <td>3781.098080</td>\n",
       "      <td>19.822962</td>\n",
       "      <td>2021-11-04</td>\n",
       "      <td>11</td>\n",
       "      <td>8</td>\n",
       "      <td>50</td>\n",
       "      <td>0</td>\n",
       "    </tr>\n",
       "    <tr>\n",
       "      <th>18064</th>\n",
       "      <td>1534</td>\n",
       "      <td>Альберт</td>\n",
       "      <td>25</td>\n",
       "      <td>Краснодар</td>\n",
       "      <td>free</td>\n",
       "      <td>2840.423057</td>\n",
       "      <td>21.409799</td>\n",
       "      <td>2021-11-16</td>\n",
       "      <td>11</td>\n",
       "      <td>8</td>\n",
       "      <td>50</td>\n",
       "      <td>0</td>\n",
       "    </tr>\n",
       "    <tr>\n",
       "      <th>18065</th>\n",
       "      <td>1534</td>\n",
       "      <td>Альберт</td>\n",
       "      <td>25</td>\n",
       "      <td>Краснодар</td>\n",
       "      <td>free</td>\n",
       "      <td>3826.185507</td>\n",
       "      <td>18.435051</td>\n",
       "      <td>2021-11-18</td>\n",
       "      <td>11</td>\n",
       "      <td>8</td>\n",
       "      <td>50</td>\n",
       "      <td>0</td>\n",
       "    </tr>\n",
       "    <tr>\n",
       "      <th>18066</th>\n",
       "      <td>1534</td>\n",
       "      <td>Альберт</td>\n",
       "      <td>25</td>\n",
       "      <td>Краснодар</td>\n",
       "      <td>free</td>\n",
       "      <td>2902.308661</td>\n",
       "      <td>16.674362</td>\n",
       "      <td>2021-11-27</td>\n",
       "      <td>11</td>\n",
       "      <td>8</td>\n",
       "      <td>50</td>\n",
       "      <td>0</td>\n",
       "    </tr>\n",
       "    <tr>\n",
       "      <th>18067</th>\n",
       "      <td>1534</td>\n",
       "      <td>Альберт</td>\n",
       "      <td>25</td>\n",
       "      <td>Краснодар</td>\n",
       "      <td>free</td>\n",
       "      <td>2371.711192</td>\n",
       "      <td>15.893917</td>\n",
       "      <td>2021-12-29</td>\n",
       "      <td>12</td>\n",
       "      <td>8</td>\n",
       "      <td>50</td>\n",
       "      <td>0</td>\n",
       "    </tr>\n",
       "  </tbody>\n",
       "</table>\n",
       "<p>18068 rows × 12 columns</p>\n",
       "</div>"
      ],
      "text/plain": [
       "       user_id     name  age       city subscription_type     distance  \\\n",
       "0            1     Кира   22     Тюмень             ultra  4409.919140   \n",
       "1            1     Кира   22     Тюмень             ultra  2617.592153   \n",
       "2            1     Кира   22     Тюмень             ultra   754.159807   \n",
       "3            1     Кира   22     Тюмень             ultra  2694.783254   \n",
       "4            1     Кира   22     Тюмень             ultra  4028.687306   \n",
       "...        ...      ...  ...        ...               ...          ...   \n",
       "18063     1534  Альберт   25  Краснодар              free  3781.098080   \n",
       "18064     1534  Альберт   25  Краснодар              free  2840.423057   \n",
       "18065     1534  Альберт   25  Краснодар              free  3826.185507   \n",
       "18066     1534  Альберт   25  Краснодар              free  2902.308661   \n",
       "18067     1534  Альберт   25  Краснодар              free  2371.711192   \n",
       "\n",
       "        duration       date  month_number  minute_price  start_ride_price  \\\n",
       "0      25.599769 2021-01-01             1             6                 0   \n",
       "1      15.816871 2021-01-18             1             6                 0   \n",
       "2       6.232113 2021-04-20             4             6                 0   \n",
       "3      18.511000 2021-08-11             8             6                 0   \n",
       "4      26.265803 2021-08-28             8             6                 0   \n",
       "...          ...        ...           ...           ...               ...   \n",
       "18063  19.822962 2021-11-04            11             8                50   \n",
       "18064  21.409799 2021-11-16            11             8                50   \n",
       "18065  18.435051 2021-11-18            11             8                50   \n",
       "18066  16.674362 2021-11-27            11             8                50   \n",
       "18067  15.893917 2021-12-29            12             8                50   \n",
       "\n",
       "       subscription_fee  \n",
       "0                   199  \n",
       "1                   199  \n",
       "2                   199  \n",
       "3                   199  \n",
       "4                   199  \n",
       "...                 ...  \n",
       "18063                 0  \n",
       "18064                 0  \n",
       "18065                 0  \n",
       "18066                 0  \n",
       "18067                 0  \n",
       "\n",
       "[18068 rows x 12 columns]"
      ]
     },
     "execution_count": 38,
     "metadata": {},
     "output_type": "execute_result"
    }
   ],
   "source": [
    "data_common.reset_index(drop=True)"
   ]
  },
  {
   "cell_type": "markdown",
   "id": "a816f905",
   "metadata": {},
   "source": [
    "### Создание датафрейма с данными о пользователях без подписки"
   ]
  },
  {
   "cell_type": "code",
   "execution_count": 39,
   "id": "549a891b",
   "metadata": {},
   "outputs": [],
   "source": [
    "data_users_type_free = data_common.loc[data_common['subscription_type'] == 'free']"
   ]
  },
  {
   "cell_type": "markdown",
   "id": "8be0bd7e",
   "metadata": {},
   "source": [
    "*Упорядочивание индексов после создания:*"
   ]
  },
  {
   "cell_type": "code",
   "execution_count": 40,
   "id": "1e1e09f3",
   "metadata": {},
   "outputs": [],
   "source": [
    "data_users_type_free = data_users_type_free.reset_index(drop=True)"
   ]
  },
  {
   "cell_type": "markdown",
   "id": "d7153231",
   "metadata": {},
   "source": [
    "*Проверка:*"
   ]
  },
  {
   "cell_type": "code",
   "execution_count": 41,
   "id": "78371f7a",
   "metadata": {},
   "outputs": [
    {
     "data": {
      "text/html": [
       "<div>\n",
       "<style scoped>\n",
       "    .dataframe tbody tr th:only-of-type {\n",
       "        vertical-align: middle;\n",
       "    }\n",
       "\n",
       "    .dataframe tbody tr th {\n",
       "        vertical-align: top;\n",
       "    }\n",
       "\n",
       "    .dataframe thead th {\n",
       "        text-align: right;\n",
       "    }\n",
       "</style>\n",
       "<table border=\"1\" class=\"dataframe\">\n",
       "  <thead>\n",
       "    <tr style=\"text-align: right;\">\n",
       "      <th></th>\n",
       "      <th>user_id</th>\n",
       "      <th>name</th>\n",
       "      <th>age</th>\n",
       "      <th>city</th>\n",
       "      <th>subscription_type</th>\n",
       "      <th>distance</th>\n",
       "      <th>duration</th>\n",
       "      <th>date</th>\n",
       "      <th>month_number</th>\n",
       "      <th>minute_price</th>\n",
       "      <th>start_ride_price</th>\n",
       "      <th>subscription_fee</th>\n",
       "    </tr>\n",
       "  </thead>\n",
       "  <tbody>\n",
       "    <tr>\n",
       "      <th>0</th>\n",
       "      <td>700</td>\n",
       "      <td>Айдар</td>\n",
       "      <td>22</td>\n",
       "      <td>Омск</td>\n",
       "      <td>free</td>\n",
       "      <td>2515.690719</td>\n",
       "      <td>14.944286</td>\n",
       "      <td>2021-01-02</td>\n",
       "      <td>1</td>\n",
       "      <td>8</td>\n",
       "      <td>50</td>\n",
       "      <td>0</td>\n",
       "    </tr>\n",
       "    <tr>\n",
       "      <th>1</th>\n",
       "      <td>700</td>\n",
       "      <td>Айдар</td>\n",
       "      <td>22</td>\n",
       "      <td>Омск</td>\n",
       "      <td>free</td>\n",
       "      <td>846.932642</td>\n",
       "      <td>16.234663</td>\n",
       "      <td>2021-02-01</td>\n",
       "      <td>2</td>\n",
       "      <td>8</td>\n",
       "      <td>50</td>\n",
       "      <td>0</td>\n",
       "    </tr>\n",
       "    <tr>\n",
       "      <th>2</th>\n",
       "      <td>700</td>\n",
       "      <td>Айдар</td>\n",
       "      <td>22</td>\n",
       "      <td>Омск</td>\n",
       "      <td>free</td>\n",
       "      <td>4004.434142</td>\n",
       "      <td>20.016628</td>\n",
       "      <td>2021-02-04</td>\n",
       "      <td>2</td>\n",
       "      <td>8</td>\n",
       "      <td>50</td>\n",
       "      <td>0</td>\n",
       "    </tr>\n",
       "    <tr>\n",
       "      <th>3</th>\n",
       "      <td>700</td>\n",
       "      <td>Айдар</td>\n",
       "      <td>22</td>\n",
       "      <td>Омск</td>\n",
       "      <td>free</td>\n",
       "      <td>1205.911290</td>\n",
       "      <td>9.782872</td>\n",
       "      <td>2021-02-10</td>\n",
       "      <td>2</td>\n",
       "      <td>8</td>\n",
       "      <td>50</td>\n",
       "      <td>0</td>\n",
       "    </tr>\n",
       "    <tr>\n",
       "      <th>4</th>\n",
       "      <td>700</td>\n",
       "      <td>Айдар</td>\n",
       "      <td>22</td>\n",
       "      <td>Омск</td>\n",
       "      <td>free</td>\n",
       "      <td>3047.379435</td>\n",
       "      <td>17.427673</td>\n",
       "      <td>2021-02-14</td>\n",
       "      <td>2</td>\n",
       "      <td>8</td>\n",
       "      <td>50</td>\n",
       "      <td>0</td>\n",
       "    </tr>\n",
       "  </tbody>\n",
       "</table>\n",
       "</div>"
      ],
      "text/plain": [
       "   user_id   name  age  city subscription_type     distance   duration  \\\n",
       "0      700  Айдар   22  Омск              free  2515.690719  14.944286   \n",
       "1      700  Айдар   22  Омск              free   846.932642  16.234663   \n",
       "2      700  Айдар   22  Омск              free  4004.434142  20.016628   \n",
       "3      700  Айдар   22  Омск              free  1205.911290   9.782872   \n",
       "4      700  Айдар   22  Омск              free  3047.379435  17.427673   \n",
       "\n",
       "        date  month_number  minute_price  start_ride_price  subscription_fee  \n",
       "0 2021-01-02             1             8                50                 0  \n",
       "1 2021-02-01             2             8                50                 0  \n",
       "2 2021-02-04             2             8                50                 0  \n",
       "3 2021-02-10             2             8                50                 0  \n",
       "4 2021-02-14             2             8                50                 0  "
      ]
     },
     "execution_count": 41,
     "metadata": {},
     "output_type": "execute_result"
    }
   ],
   "source": [
    "data_users_type_free.head()"
   ]
  },
  {
   "cell_type": "markdown",
   "id": "83a5713a",
   "metadata": {},
   "source": [
    "### Создание датафрейма с данными о пользователях с подпиской"
   ]
  },
  {
   "cell_type": "code",
   "execution_count": 42,
   "id": "73fe423f",
   "metadata": {},
   "outputs": [],
   "source": [
    "data_users_type_ultra = data_common.loc[data_common['subscription_type'] == 'ultra']"
   ]
  },
  {
   "cell_type": "markdown",
   "id": "a0230c08",
   "metadata": {},
   "source": [
    "*Упорядочивание индексов после создания:*"
   ]
  },
  {
   "cell_type": "code",
   "execution_count": 43,
   "id": "a4b55175",
   "metadata": {},
   "outputs": [],
   "source": [
    "data_users_type_ultra = data_users_type_ultra.reset_index(drop=True)"
   ]
  },
  {
   "cell_type": "markdown",
   "id": "b1f3b1ad",
   "metadata": {},
   "source": [
    "*Проверка:*"
   ]
  },
  {
   "cell_type": "code",
   "execution_count": 44,
   "id": "4946e0df",
   "metadata": {},
   "outputs": [
    {
     "data": {
      "text/html": [
       "<div>\n",
       "<style scoped>\n",
       "    .dataframe tbody tr th:only-of-type {\n",
       "        vertical-align: middle;\n",
       "    }\n",
       "\n",
       "    .dataframe tbody tr th {\n",
       "        vertical-align: top;\n",
       "    }\n",
       "\n",
       "    .dataframe thead th {\n",
       "        text-align: right;\n",
       "    }\n",
       "</style>\n",
       "<table border=\"1\" class=\"dataframe\">\n",
       "  <thead>\n",
       "    <tr style=\"text-align: right;\">\n",
       "      <th></th>\n",
       "      <th>user_id</th>\n",
       "      <th>name</th>\n",
       "      <th>age</th>\n",
       "      <th>city</th>\n",
       "      <th>subscription_type</th>\n",
       "      <th>distance</th>\n",
       "      <th>duration</th>\n",
       "      <th>date</th>\n",
       "      <th>month_number</th>\n",
       "      <th>minute_price</th>\n",
       "      <th>start_ride_price</th>\n",
       "      <th>subscription_fee</th>\n",
       "    </tr>\n",
       "  </thead>\n",
       "  <tbody>\n",
       "    <tr>\n",
       "      <th>0</th>\n",
       "      <td>1</td>\n",
       "      <td>Кира</td>\n",
       "      <td>22</td>\n",
       "      <td>Тюмень</td>\n",
       "      <td>ultra</td>\n",
       "      <td>4409.919140</td>\n",
       "      <td>25.599769</td>\n",
       "      <td>2021-01-01</td>\n",
       "      <td>1</td>\n",
       "      <td>6</td>\n",
       "      <td>0</td>\n",
       "      <td>199</td>\n",
       "    </tr>\n",
       "    <tr>\n",
       "      <th>1</th>\n",
       "      <td>1</td>\n",
       "      <td>Кира</td>\n",
       "      <td>22</td>\n",
       "      <td>Тюмень</td>\n",
       "      <td>ultra</td>\n",
       "      <td>2617.592153</td>\n",
       "      <td>15.816871</td>\n",
       "      <td>2021-01-18</td>\n",
       "      <td>1</td>\n",
       "      <td>6</td>\n",
       "      <td>0</td>\n",
       "      <td>199</td>\n",
       "    </tr>\n",
       "    <tr>\n",
       "      <th>2</th>\n",
       "      <td>1</td>\n",
       "      <td>Кира</td>\n",
       "      <td>22</td>\n",
       "      <td>Тюмень</td>\n",
       "      <td>ultra</td>\n",
       "      <td>754.159807</td>\n",
       "      <td>6.232113</td>\n",
       "      <td>2021-04-20</td>\n",
       "      <td>4</td>\n",
       "      <td>6</td>\n",
       "      <td>0</td>\n",
       "      <td>199</td>\n",
       "    </tr>\n",
       "    <tr>\n",
       "      <th>3</th>\n",
       "      <td>1</td>\n",
       "      <td>Кира</td>\n",
       "      <td>22</td>\n",
       "      <td>Тюмень</td>\n",
       "      <td>ultra</td>\n",
       "      <td>2694.783254</td>\n",
       "      <td>18.511000</td>\n",
       "      <td>2021-08-11</td>\n",
       "      <td>8</td>\n",
       "      <td>6</td>\n",
       "      <td>0</td>\n",
       "      <td>199</td>\n",
       "    </tr>\n",
       "    <tr>\n",
       "      <th>4</th>\n",
       "      <td>1</td>\n",
       "      <td>Кира</td>\n",
       "      <td>22</td>\n",
       "      <td>Тюмень</td>\n",
       "      <td>ultra</td>\n",
       "      <td>4028.687306</td>\n",
       "      <td>26.265803</td>\n",
       "      <td>2021-08-28</td>\n",
       "      <td>8</td>\n",
       "      <td>6</td>\n",
       "      <td>0</td>\n",
       "      <td>199</td>\n",
       "    </tr>\n",
       "  </tbody>\n",
       "</table>\n",
       "</div>"
      ],
      "text/plain": [
       "   user_id  name  age    city subscription_type     distance   duration  \\\n",
       "0        1  Кира   22  Тюмень             ultra  4409.919140  25.599769   \n",
       "1        1  Кира   22  Тюмень             ultra  2617.592153  15.816871   \n",
       "2        1  Кира   22  Тюмень             ultra   754.159807   6.232113   \n",
       "3        1  Кира   22  Тюмень             ultra  2694.783254  18.511000   \n",
       "4        1  Кира   22  Тюмень             ultra  4028.687306  26.265803   \n",
       "\n",
       "        date  month_number  minute_price  start_ride_price  subscription_fee  \n",
       "0 2021-01-01             1             6                 0               199  \n",
       "1 2021-01-18             1             6                 0               199  \n",
       "2 2021-04-20             4             6                 0               199  \n",
       "3 2021-08-11             8             6                 0               199  \n",
       "4 2021-08-28             8             6                 0               199  "
      ]
     },
     "execution_count": 44,
     "metadata": {},
     "output_type": "execute_result"
    }
   ],
   "source": [
    "data_users_type_ultra.head()"
   ]
  },
  {
   "cell_type": "markdown",
   "id": "f963c909",
   "metadata": {},
   "source": [
    "### Визуализации информации о расстоянии и времени поездок для пользователей с подпиской и без"
   ]
  },
  {
   "cell_type": "markdown",
   "id": "91dd3099",
   "metadata": {},
   "source": [
    "**Визуализации информации о расстоянии поездок для пользователей с подпиской и без**"
   ]
  },
  {
   "cell_type": "markdown",
   "id": "eefe30f9",
   "metadata": {},
   "source": [
    "*Составим визуализацию данных о преодоленном расстоянии пользователей без подписки:*"
   ]
  },
  {
   "cell_type": "code",
   "execution_count": 45,
   "id": "22c9a4ab",
   "metadata": {},
   "outputs": [
    {
     "data": {
      "text/plain": [
       "<AxesSubplot:title={'center':'Преодоленное расстояние пользователями без подписки'}, ylabel='Frequency'>"
      ]
     },
     "execution_count": 45,
     "metadata": {},
     "output_type": "execute_result"
    },
    {
     "data": {
      "image/png": "[encoded data removed]",
      "text/plain": [
       "<Figure size 360x288 with 1 Axes>"
      ]
     },
     "metadata": {
      "needs_background": "light"
     },
     "output_type": "display_data"
    }
   ],
   "source": [
    "data_users_type_free['distance'].plot(kind='hist', grid=True, figsize=(5, 4), bins=100, alpha=0.5, legend=True, title='Преодоленное расстояние пользователями без подписки')"
   ]
  },
  {
   "cell_type": "markdown",
   "id": "77951a53",
   "metadata": {},
   "source": [
    "*Составим визуализацию данных о преодоленном расстоянии пользователей с подпиской:*"
   ]
  },
  {
   "cell_type": "code",
   "execution_count": 46,
   "id": "90a22239",
   "metadata": {},
   "outputs": [
    {
     "data": {
      "text/plain": [
       "<AxesSubplot:title={'center':'Преодоленное расстояние пользователями с подпиской'}, ylabel='Frequency'>"
      ]
     },
     "execution_count": 46,
     "metadata": {},
     "output_type": "execute_result"
    },
    {
     "data": {
      "image/png": "[encoded data removed]",
      "text/plain": [
       "<Figure size 360x288 with 1 Axes>"
      ]
     },
     "metadata": {
      "needs_background": "light"
     },
     "output_type": "display_data"
    }
   ],
   "source": [
    "data_users_type_ultra['distance'].plot(kind='hist', grid=True, figsize=(5, 4), bins=100, alpha=0.5, legend=True, title='Преодоленное расстояние пользователями с подпиской')"
   ]
  },
  {
   "cell_type": "markdown",
   "id": "b084cabb",
   "metadata": {},
   "source": [
    "*Составим два совмещенных графика о преодоленном расстоянии для пользователей с подпиской и без:*"
   ]
  },
  {
   "cell_type": "markdown",
   "id": "1447507d",
   "metadata": {},
   "source": [
    "*Для этого перименуем столбцы в датафреймах:*"
   ]
  },
  {
   "cell_type": "code",
   "execution_count": 47,
   "id": "b425f988",
   "metadata": {},
   "outputs": [
    {
     "data": {
      "text/html": [
       "<div>\n",
       "<style scoped>\n",
       "    .dataframe tbody tr th:only-of-type {\n",
       "        vertical-align: middle;\n",
       "    }\n",
       "\n",
       "    .dataframe tbody tr th {\n",
       "        vertical-align: top;\n",
       "    }\n",
       "\n",
       "    .dataframe thead th {\n",
       "        text-align: right;\n",
       "    }\n",
       "</style>\n",
       "<table border=\"1\" class=\"dataframe\">\n",
       "  <thead>\n",
       "    <tr style=\"text-align: right;\">\n",
       "      <th></th>\n",
       "      <th>user_id</th>\n",
       "      <th>name</th>\n",
       "      <th>age</th>\n",
       "      <th>city</th>\n",
       "      <th>subscription_type</th>\n",
       "      <th>distance_free</th>\n",
       "      <th>duration_free</th>\n",
       "      <th>date</th>\n",
       "      <th>month_number</th>\n",
       "      <th>minute_price</th>\n",
       "      <th>start_ride_price</th>\n",
       "      <th>subscription_fee</th>\n",
       "    </tr>\n",
       "  </thead>\n",
       "  <tbody>\n",
       "    <tr>\n",
       "      <th>0</th>\n",
       "      <td>700</td>\n",
       "      <td>Айдар</td>\n",
       "      <td>22</td>\n",
       "      <td>Омск</td>\n",
       "      <td>free</td>\n",
       "      <td>2515.690719</td>\n",
       "      <td>14.944286</td>\n",
       "      <td>2021-01-02</td>\n",
       "      <td>1</td>\n",
       "      <td>8</td>\n",
       "      <td>50</td>\n",
       "      <td>0</td>\n",
       "    </tr>\n",
       "    <tr>\n",
       "      <th>1</th>\n",
       "      <td>700</td>\n",
       "      <td>Айдар</td>\n",
       "      <td>22</td>\n",
       "      <td>Омск</td>\n",
       "      <td>free</td>\n",
       "      <td>846.932642</td>\n",
       "      <td>16.234663</td>\n",
       "      <td>2021-02-01</td>\n",
       "      <td>2</td>\n",
       "      <td>8</td>\n",
       "      <td>50</td>\n",
       "      <td>0</td>\n",
       "    </tr>\n",
       "    <tr>\n",
       "      <th>2</th>\n",
       "      <td>700</td>\n",
       "      <td>Айдар</td>\n",
       "      <td>22</td>\n",
       "      <td>Омск</td>\n",
       "      <td>free</td>\n",
       "      <td>4004.434142</td>\n",
       "      <td>20.016628</td>\n",
       "      <td>2021-02-04</td>\n",
       "      <td>2</td>\n",
       "      <td>8</td>\n",
       "      <td>50</td>\n",
       "      <td>0</td>\n",
       "    </tr>\n",
       "    <tr>\n",
       "      <th>3</th>\n",
       "      <td>700</td>\n",
       "      <td>Айдар</td>\n",
       "      <td>22</td>\n",
       "      <td>Омск</td>\n",
       "      <td>free</td>\n",
       "      <td>1205.911290</td>\n",
       "      <td>9.782872</td>\n",
       "      <td>2021-02-10</td>\n",
       "      <td>2</td>\n",
       "      <td>8</td>\n",
       "      <td>50</td>\n",
       "      <td>0</td>\n",
       "    </tr>\n",
       "    <tr>\n",
       "      <th>4</th>\n",
       "      <td>700</td>\n",
       "      <td>Айдар</td>\n",
       "      <td>22</td>\n",
       "      <td>Омск</td>\n",
       "      <td>free</td>\n",
       "      <td>3047.379435</td>\n",
       "      <td>17.427673</td>\n",
       "      <td>2021-02-14</td>\n",
       "      <td>2</td>\n",
       "      <td>8</td>\n",
       "      <td>50</td>\n",
       "      <td>0</td>\n",
       "    </tr>\n",
       "  </tbody>\n",
       "</table>\n",
       "</div>"
      ],
      "text/plain": [
       "   user_id   name  age  city subscription_type  distance_free  duration_free  \\\n",
       "0      700  Айдар   22  Омск              free    2515.690719      14.944286   \n",
       "1      700  Айдар   22  Омск              free     846.932642      16.234663   \n",
       "2      700  Айдар   22  Омск              free    4004.434142      20.016628   \n",
       "3      700  Айдар   22  Омск              free    1205.911290       9.782872   \n",
       "4      700  Айдар   22  Омск              free    3047.379435      17.427673   \n",
       "\n",
       "        date  month_number  minute_price  start_ride_price  subscription_fee  \n",
       "0 2021-01-02             1             8                50                 0  \n",
       "1 2021-02-01             2             8                50                 0  \n",
       "2 2021-02-04             2             8                50                 0  \n",
       "3 2021-02-10             2             8                50                 0  \n",
       "4 2021-02-14             2             8                50                 0  "
      ]
     },
     "execution_count": 47,
     "metadata": {},
     "output_type": "execute_result"
    }
   ],
   "source": [
    "data_users_type_free.columns = ['user_id', 'name', 'age', 'city', 'subscription_type', 'distance_free',\n",
    "       'duration_free', 'date', 'month_number', 'minute_price', 'start_ride_price',\n",
    "       'subscription_fee']\n",
    "data_users_type_free. head()"
   ]
  },
  {
   "cell_type": "code",
   "execution_count": 48,
   "id": "31e97be9",
   "metadata": {},
   "outputs": [
    {
     "data": {
      "text/html": [
       "<div>\n",
       "<style scoped>\n",
       "    .dataframe tbody tr th:only-of-type {\n",
       "        vertical-align: middle;\n",
       "    }\n",
       "\n",
       "    .dataframe tbody tr th {\n",
       "        vertical-align: top;\n",
       "    }\n",
       "\n",
       "    .dataframe thead th {\n",
       "        text-align: right;\n",
       "    }\n",
       "</style>\n",
       "<table border=\"1\" class=\"dataframe\">\n",
       "  <thead>\n",
       "    <tr style=\"text-align: right;\">\n",
       "      <th></th>\n",
       "      <th>user_id</th>\n",
       "      <th>name</th>\n",
       "      <th>age</th>\n",
       "      <th>city</th>\n",
       "      <th>subscription_type</th>\n",
       "      <th>distance_ultra</th>\n",
       "      <th>duration_ultra</th>\n",
       "      <th>date</th>\n",
       "      <th>month_number</th>\n",
       "      <th>minute_price</th>\n",
       "      <th>start_ride_price</th>\n",
       "      <th>subscription_fee</th>\n",
       "    </tr>\n",
       "  </thead>\n",
       "  <tbody>\n",
       "    <tr>\n",
       "      <th>0</th>\n",
       "      <td>1</td>\n",
       "      <td>Кира</td>\n",
       "      <td>22</td>\n",
       "      <td>Тюмень</td>\n",
       "      <td>ultra</td>\n",
       "      <td>4409.919140</td>\n",
       "      <td>25.599769</td>\n",
       "      <td>2021-01-01</td>\n",
       "      <td>1</td>\n",
       "      <td>6</td>\n",
       "      <td>0</td>\n",
       "      <td>199</td>\n",
       "    </tr>\n",
       "    <tr>\n",
       "      <th>1</th>\n",
       "      <td>1</td>\n",
       "      <td>Кира</td>\n",
       "      <td>22</td>\n",
       "      <td>Тюмень</td>\n",
       "      <td>ultra</td>\n",
       "      <td>2617.592153</td>\n",
       "      <td>15.816871</td>\n",
       "      <td>2021-01-18</td>\n",
       "      <td>1</td>\n",
       "      <td>6</td>\n",
       "      <td>0</td>\n",
       "      <td>199</td>\n",
       "    </tr>\n",
       "    <tr>\n",
       "      <th>2</th>\n",
       "      <td>1</td>\n",
       "      <td>Кира</td>\n",
       "      <td>22</td>\n",
       "      <td>Тюмень</td>\n",
       "      <td>ultra</td>\n",
       "      <td>754.159807</td>\n",
       "      <td>6.232113</td>\n",
       "      <td>2021-04-20</td>\n",
       "      <td>4</td>\n",
       "      <td>6</td>\n",
       "      <td>0</td>\n",
       "      <td>199</td>\n",
       "    </tr>\n",
       "    <tr>\n",
       "      <th>3</th>\n",
       "      <td>1</td>\n",
       "      <td>Кира</td>\n",
       "      <td>22</td>\n",
       "      <td>Тюмень</td>\n",
       "      <td>ultra</td>\n",
       "      <td>2694.783254</td>\n",
       "      <td>18.511000</td>\n",
       "      <td>2021-08-11</td>\n",
       "      <td>8</td>\n",
       "      <td>6</td>\n",
       "      <td>0</td>\n",
       "      <td>199</td>\n",
       "    </tr>\n",
       "    <tr>\n",
       "      <th>4</th>\n",
       "      <td>1</td>\n",
       "      <td>Кира</td>\n",
       "      <td>22</td>\n",
       "      <td>Тюмень</td>\n",
       "      <td>ultra</td>\n",
       "      <td>4028.687306</td>\n",
       "      <td>26.265803</td>\n",
       "      <td>2021-08-28</td>\n",
       "      <td>8</td>\n",
       "      <td>6</td>\n",
       "      <td>0</td>\n",
       "      <td>199</td>\n",
       "    </tr>\n",
       "  </tbody>\n",
       "</table>\n",
       "</div>"
      ],
      "text/plain": [
       "   user_id  name  age    city subscription_type  distance_ultra  \\\n",
       "0        1  Кира   22  Тюмень             ultra     4409.919140   \n",
       "1        1  Кира   22  Тюмень             ultra     2617.592153   \n",
       "2        1  Кира   22  Тюмень             ultra      754.159807   \n",
       "3        1  Кира   22  Тюмень             ultra     2694.783254   \n",
       "4        1  Кира   22  Тюмень             ultra     4028.687306   \n",
       "\n",
       "   duration_ultra       date  month_number  minute_price  start_ride_price  \\\n",
       "0       25.599769 2021-01-01             1             6                 0   \n",
       "1       15.816871 2021-01-18             1             6                 0   \n",
       "2        6.232113 2021-04-20             4             6                 0   \n",
       "3       18.511000 2021-08-11             8             6                 0   \n",
       "4       26.265803 2021-08-28             8             6                 0   \n",
       "\n",
       "   subscription_fee  \n",
       "0               199  \n",
       "1               199  \n",
       "2               199  \n",
       "3               199  \n",
       "4               199  "
      ]
     },
     "execution_count": 48,
     "metadata": {},
     "output_type": "execute_result"
    }
   ],
   "source": [
    "data_users_type_ultra.columns = ['user_id', 'name', 'age', 'city', 'subscription_type', 'distance_ultra',\n",
    "       'duration_ultra', 'date', 'month_number', 'minute_price', 'start_ride_price',\n",
    "       'subscription_fee']\n",
    "data_users_type_ultra. head()"
   ]
  },
  {
   "cell_type": "code",
   "execution_count": 49,
   "id": "86d4bd9e",
   "metadata": {},
   "outputs": [
    {
     "data": {
      "text/plain": [
       "<AxesSubplot:title={'center':'Преодоленное расстояние пользователями'}, ylabel='Frequency'>"
      ]
     },
     "execution_count": 49,
     "metadata": {},
     "output_type": "execute_result"
    },
    {
     "data": {
      "image/png": "[encoded data removed]",
      "text/plain": [
       "<Figure size 360x288 with 1 Axes>"
      ]
     },
     "metadata": {
      "needs_background": "light"
     },
     "output_type": "display_data"
    }
   ],
   "source": [
    "data_users_type_free['distance_free'].plot(kind='hist', grid=True, figsize=(5, 4), bins=100, alpha=0.5, legend=True, title='Преодоленное расстояние пользователями')\n",
    "data_users_type_ultra['distance_ultra'].plot(kind='hist', grid=True, figsize=(5, 4), bins=100, alpha=0.5, legend=True)"
   ]
  },
  {
   "cell_type": "markdown",
   "id": "23fd787b",
   "metadata": {},
   "source": [
    "*По визуализации данных можно сказать, что и пользователи с подпиской и пользователи без подписки используют самокаты или для преодоления коротких дистанций до 1,5 км или для дистанций от 1,5 км и выше. Пользователи с подпиской чаще совершают поездки на расстояние от 2 до 5 км, в то время как пользователи без подписки используют самокат и на расстояния до 7 км. У пользователей без подписки замечен всплеск значений в области до 1 км, в связи с этим посмотри детальнее эту область на другом типе визуализации:*"
   ]
  },
  {
   "cell_type": "code",
   "execution_count": 50,
   "id": "48f0b728",
   "metadata": {},
   "outputs": [
    {
     "data": {
      "text/plain": [
       "<AxesSubplot:title={'center':'Преодоленное расстояние пользователями'}, ylabel='Frequency'>"
      ]
     },
     "execution_count": 50,
     "metadata": {},
     "output_type": "execute_result"
    },
    {
     "data": {
      "image/png": "[encoded data removed]",
      "text/plain": [
       "<Figure size 360x288 with 1 Axes>"
      ]
     },
     "metadata": {
      "needs_background": "light"
     },
     "output_type": "display_data"
    }
   ],
   "source": [
    "(data_users_type_free['distance_free'].plot(kind='hist', grid=True, figsize=(5, 4), bins=300, alpha=0.5, legend=True, xlim=(0,1000), ylim=(0,75)))\n",
    "(data_users_type_ultra['distance_ultra'].plot(kind='hist', grid=True, figsize=(5, 4), bins=300, alpha=0.5, legend=True, xlim=(0,1000), title='Преодоленное расстояние пользователями'))"
   ]
  },
  {
   "cell_type": "markdown",
   "id": "711b13f3",
   "metadata": {},
   "source": [
    "*На визуализации видно, что пользователи без подписки значительно чаще проделывают путь до нескольких сотен метров. Возможно (в дополнение к причинам озвученным ранее) это также связано с новыми пользователями, которые хотели попробовать услугу, но им она не понравилась.*"
   ]
  },
  {
   "cell_type": "markdown",
   "id": "9f41fd45",
   "metadata": {},
   "source": [
    "**Визуализации информации о времени поездок для пользователей с подпиской и без**"
   ]
  },
  {
   "cell_type": "markdown",
   "id": "0a36b4dd",
   "metadata": {},
   "source": [
    "*Составим два совмещенных графика о времени поездок для пользователей с подпиской и без:*"
   ]
  },
  {
   "cell_type": "code",
   "execution_count": 51,
   "id": "729942b7",
   "metadata": {},
   "outputs": [
    {
     "data": {
      "text/plain": [
       "<AxesSubplot:title={'center':'Время затраченное на поездку'}, ylabel='Frequency'>"
      ]
     },
     "execution_count": 51,
     "metadata": {},
     "output_type": "execute_result"
    },
    {
     "data": {
      "image/png": "[encoded data removed]",
      "text/plain": [
       "<Figure size 360x288 with 1 Axes>"
      ]
     },
     "metadata": {
      "needs_background": "light"
     },
     "output_type": "display_data"
    }
   ],
   "source": [
    "data_users_type_free['duration_free'].plot(kind='hist', grid=True, figsize=(5, 4), bins=100, alpha=0.5, legend=True)\n",
    "data_users_type_ultra['duration_ultra'].plot(kind='hist', grid=True, figsize=(5, 4), bins=100, alpha=0.5, legend=True, title='Время затраченное на поездку')"
   ]
  },
  {
   "cell_type": "markdown",
   "id": "2c47f7aa",
   "metadata": {},
   "source": [
    "*На визуализации видно, что пользователи с подпиской тратят на дорогу от 5 до 40 минут, в то время как у пользователей без подписки есть временной отрезок и до 5 минут в пути. Посмотрим какое количество пользователей проводят в дороге меньше двух минут:*"
   ]
  },
  {
   "cell_type": "code",
   "execution_count": 52,
   "id": "1561142a",
   "metadata": {},
   "outputs": [
    {
     "data": {
      "text/plain": [
       "95"
      ]
     },
     "execution_count": 52,
     "metadata": {},
     "output_type": "execute_result"
    }
   ],
   "source": [
    "data_users_type_free.query('duration_free < 2')['user_id'].count()"
   ]
  },
  {
   "cell_type": "markdown",
   "id": "dc49a9cd",
   "metadata": {},
   "source": [
    "### Вывод"
   ]
  },
  {
   "cell_type": "markdown",
   "id": "a1df93ca",
   "metadata": {},
   "source": [
    "**Пользователи с подпиской:**\n",
    "\n",
    "- Преодоленное расстояние: пользователей можно разделить на две группы, одна из которых использует самокат на расстояние от нескольких метров до 2 км, другая от 2 км до 5,5 км. Чаще всего пользователи с подпиской проходят расстояние в районе 2,5 - 3,5 км.\n",
    "\n",
    "- Время в пути: пользователи с подпиской тратят на дорогу от 5 до 40 минут. Чаще всего в они находятся в пути от 12 до 25 минут.\n",
    "\n",
    "**Пользователи без подписки:**\n",
    "\n",
    "- Преодоленное расстояние:пользователей можно разделить на две группы, одна из которых использует самокат на расстояние  до 1,5 км, другая от 1,5 км до 7 км. Чаще всего пользователи с подпиской проходят расстояние в районе 2 - 5 км. Также обозначен вопрос \"почему пользователи проделывают очень короткие расстояния\", предполагаемые причины может быть в технической неисправности, финансовых обстоятельствах или личных предпочтениях, а также в погодных условиях.В виду того, что у пользователей с подпиской такого не наблюдается, можно предположить, что дело все-таки или в личных предпочтениях или в финансовых обстоятельствах.\n",
    "\n",
    "- Время в пути: пользователи без подписки тратят на дорогу от 0 до 35 минут. Чаще всего в они находятся в пути от 10 до 25 минут. Замечено что 95 пользователей провели в пути меньше 2ух минут, возможно по причинам озвученным ранее."
   ]
  },
  {
   "cell_type": "markdown",
   "id": "402d620f",
   "metadata": {},
   "source": [
    "## Шаг 5. Подсчёт выручки"
   ]
  },
  {
   "cell_type": "markdown",
   "id": "8def233f",
   "metadata": {},
   "source": [
    "### Создание датафрейма с агрегированными данными о поездках"
   ]
  },
  {
   "cell_type": "markdown",
   "id": "7353b59e",
   "metadata": {},
   "source": [
    "*Cуммарное расстояние, количество поездок и суммарное время для каждого пользователя за каждый месяц:*"
   ]
  },
  {
   "cell_type": "code",
   "execution_count": 53,
   "id": "eaadf38f",
   "metadata": {},
   "outputs": [],
   "source": [
    "data_aggregated = (data_common.pivot_table(index=['user_id', 'month_number', 'subscription_type'], values=['distance', 'duration'],\n",
    "                       aggfunc=({'distance': ['count', 'sum'], 'duration': 'sum'})))"
   ]
  },
  {
   "cell_type": "markdown",
   "id": "79479275",
   "metadata": {},
   "source": [
    "*Проверка:*"
   ]
  },
  {
   "cell_type": "code",
   "execution_count": 54,
   "id": "ee981edb",
   "metadata": {},
   "outputs": [
    {
     "data": {
      "text/html": [
       "<div>\n",
       "<style scoped>\n",
       "    .dataframe tbody tr th:only-of-type {\n",
       "        vertical-align: middle;\n",
       "    }\n",
       "\n",
       "    .dataframe tbody tr th {\n",
       "        vertical-align: top;\n",
       "    }\n",
       "\n",
       "    .dataframe thead tr th {\n",
       "        text-align: left;\n",
       "    }\n",
       "\n",
       "    .dataframe thead tr:last-of-type th {\n",
       "        text-align: right;\n",
       "    }\n",
       "</style>\n",
       "<table border=\"1\" class=\"dataframe\">\n",
       "  <thead>\n",
       "    <tr>\n",
       "      <th></th>\n",
       "      <th></th>\n",
       "      <th></th>\n",
       "      <th colspan=\"2\" halign=\"left\">distance</th>\n",
       "      <th>duration</th>\n",
       "    </tr>\n",
       "    <tr>\n",
       "      <th></th>\n",
       "      <th></th>\n",
       "      <th></th>\n",
       "      <th>count</th>\n",
       "      <th>sum</th>\n",
       "      <th>sum</th>\n",
       "    </tr>\n",
       "    <tr>\n",
       "      <th>user_id</th>\n",
       "      <th>month_number</th>\n",
       "      <th>subscription_type</th>\n",
       "      <th></th>\n",
       "      <th></th>\n",
       "      <th></th>\n",
       "    </tr>\n",
       "  </thead>\n",
       "  <tbody>\n",
       "    <tr>\n",
       "      <th rowspan=\"5\" valign=\"top\">1</th>\n",
       "      <th>1</th>\n",
       "      <th>ultra</th>\n",
       "      <td>2</td>\n",
       "      <td>7027.511294</td>\n",
       "      <td>41.416640</td>\n",
       "    </tr>\n",
       "    <tr>\n",
       "      <th>4</th>\n",
       "      <th>ultra</th>\n",
       "      <td>1</td>\n",
       "      <td>754.159807</td>\n",
       "      <td>6.232113</td>\n",
       "    </tr>\n",
       "    <tr>\n",
       "      <th>8</th>\n",
       "      <th>ultra</th>\n",
       "      <td>2</td>\n",
       "      <td>6723.470560</td>\n",
       "      <td>44.776802</td>\n",
       "    </tr>\n",
       "    <tr>\n",
       "      <th>10</th>\n",
       "      <th>ultra</th>\n",
       "      <td>2</td>\n",
       "      <td>5809.911100</td>\n",
       "      <td>31.578017</td>\n",
       "    </tr>\n",
       "    <tr>\n",
       "      <th>11</th>\n",
       "      <th>ultra</th>\n",
       "      <td>3</td>\n",
       "      <td>7003.499363</td>\n",
       "      <td>53.397424</td>\n",
       "    </tr>\n",
       "    <tr>\n",
       "      <th>...</th>\n",
       "      <th>...</th>\n",
       "      <th>...</th>\n",
       "      <td>...</td>\n",
       "      <td>...</td>\n",
       "      <td>...</td>\n",
       "    </tr>\n",
       "    <tr>\n",
       "      <th rowspan=\"5\" valign=\"top\">1534</th>\n",
       "      <th>6</th>\n",
       "      <th>free</th>\n",
       "      <td>2</td>\n",
       "      <td>3409.468534</td>\n",
       "      <td>24.812678</td>\n",
       "    </tr>\n",
       "    <tr>\n",
       "      <th>8</th>\n",
       "      <th>free</th>\n",
       "      <td>2</td>\n",
       "      <td>7622.453034</td>\n",
       "      <td>47.205960</td>\n",
       "    </tr>\n",
       "    <tr>\n",
       "      <th>9</th>\n",
       "      <th>free</th>\n",
       "      <td>1</td>\n",
       "      <td>4928.173852</td>\n",
       "      <td>22.560373</td>\n",
       "    </tr>\n",
       "    <tr>\n",
       "      <th>11</th>\n",
       "      <th>free</th>\n",
       "      <td>4</td>\n",
       "      <td>13350.015305</td>\n",
       "      <td>76.342174</td>\n",
       "    </tr>\n",
       "    <tr>\n",
       "      <th>12</th>\n",
       "      <th>free</th>\n",
       "      <td>1</td>\n",
       "      <td>2371.711192</td>\n",
       "      <td>15.893917</td>\n",
       "    </tr>\n",
       "  </tbody>\n",
       "</table>\n",
       "<p>11331 rows × 3 columns</p>\n",
       "</div>"
      ],
      "text/plain": [
       "                                       distance                 duration\n",
       "                                          count           sum        sum\n",
       "user_id month_number subscription_type                                  \n",
       "1       1            ultra                    2   7027.511294  41.416640\n",
       "        4            ultra                    1    754.159807   6.232113\n",
       "        8            ultra                    2   6723.470560  44.776802\n",
       "        10           ultra                    2   5809.911100  31.578017\n",
       "        11           ultra                    3   7003.499363  53.397424\n",
       "...                                         ...           ...        ...\n",
       "1534    6            free                     2   3409.468534  24.812678\n",
       "        8            free                     2   7622.453034  47.205960\n",
       "        9            free                     1   4928.173852  22.560373\n",
       "        11           free                     4  13350.015305  76.342174\n",
       "        12           free                     1   2371.711192  15.893917\n",
       "\n",
       "[11331 rows x 3 columns]"
      ]
     },
     "execution_count": 54,
     "metadata": {},
     "output_type": "execute_result"
    }
   ],
   "source": [
    "data_aggregated"
   ]
  },
  {
   "cell_type": "markdown",
   "id": "752ab748",
   "metadata": {},
   "source": [
    "### Добавление столбца с помесячной выручкой, которую принес каждый пользователь"
   ]
  },
  {
   "cell_type": "markdown",
   "id": "1ecd65cc",
   "metadata": {},
   "source": [
    "*Создаем столбец и запишем туда нулевые значения:*"
   ]
  },
  {
   "cell_type": "code",
   "execution_count": 55,
   "id": "ba708bc3",
   "metadata": {},
   "outputs": [],
   "source": [
    "data_aggregated['income_month'] = 0.0\n",
    "data_aggregated.columns = ['count', 'distance_month_tot', 'duration_month_tot', 'income_month']\n",
    "data_aggregated['duration_month_tot'] = np.ceil(data_aggregated['duration_month_tot'])"
   ]
  },
  {
   "cell_type": "markdown",
   "id": "5ab5e796",
   "metadata": {},
   "source": [
    "*Проверка:*"
   ]
  },
  {
   "cell_type": "code",
   "execution_count": 56,
   "id": "4bdac00c",
   "metadata": {},
   "outputs": [
    {
     "name": "stdout",
     "output_type": "stream",
     "text": [
      "<class 'pandas.core.frame.DataFrame'>\n",
      "MultiIndex: 11331 entries, (1, 1, 'ultra') to (1534, 12, 'free')\n",
      "Data columns (total 4 columns):\n",
      " #   Column              Non-Null Count  Dtype  \n",
      "---  ------              --------------  -----  \n",
      " 0   count               11331 non-null  int64  \n",
      " 1   distance_month_tot  11331 non-null  float64\n",
      " 2   duration_month_tot  11331 non-null  float64\n",
      " 3   income_month        11331 non-null  float64\n",
      "dtypes: float64(3), int64(1)\n",
      "memory usage: 410.6+ KB\n"
     ]
    }
   ],
   "source": [
    "data_aggregated.info()"
   ]
  },
  {
   "cell_type": "code",
   "execution_count": 57,
   "id": "8e3f7026",
   "metadata": {},
   "outputs": [
    {
     "data": {
      "text/html": [
       "<div>\n",
       "<style scoped>\n",
       "    .dataframe tbody tr th:only-of-type {\n",
       "        vertical-align: middle;\n",
       "    }\n",
       "\n",
       "    .dataframe tbody tr th {\n",
       "        vertical-align: top;\n",
       "    }\n",
       "\n",
       "    .dataframe thead th {\n",
       "        text-align: right;\n",
       "    }\n",
       "</style>\n",
       "<table border=\"1\" class=\"dataframe\">\n",
       "  <thead>\n",
       "    <tr style=\"text-align: right;\">\n",
       "      <th></th>\n",
       "      <th></th>\n",
       "      <th></th>\n",
       "      <th>count</th>\n",
       "      <th>distance_month_tot</th>\n",
       "      <th>duration_month_tot</th>\n",
       "      <th>income_month</th>\n",
       "    </tr>\n",
       "    <tr>\n",
       "      <th>user_id</th>\n",
       "      <th>month_number</th>\n",
       "      <th>subscription_type</th>\n",
       "      <th></th>\n",
       "      <th></th>\n",
       "      <th></th>\n",
       "      <th></th>\n",
       "    </tr>\n",
       "  </thead>\n",
       "  <tbody>\n",
       "    <tr>\n",
       "      <th rowspan=\"5\" valign=\"top\">1</th>\n",
       "      <th>1</th>\n",
       "      <th>ultra</th>\n",
       "      <td>2</td>\n",
       "      <td>7027.511294</td>\n",
       "      <td>42.0</td>\n",
       "      <td>0.0</td>\n",
       "    </tr>\n",
       "    <tr>\n",
       "      <th>4</th>\n",
       "      <th>ultra</th>\n",
       "      <td>1</td>\n",
       "      <td>754.159807</td>\n",
       "      <td>7.0</td>\n",
       "      <td>0.0</td>\n",
       "    </tr>\n",
       "    <tr>\n",
       "      <th>8</th>\n",
       "      <th>ultra</th>\n",
       "      <td>2</td>\n",
       "      <td>6723.470560</td>\n",
       "      <td>45.0</td>\n",
       "      <td>0.0</td>\n",
       "    </tr>\n",
       "    <tr>\n",
       "      <th>10</th>\n",
       "      <th>ultra</th>\n",
       "      <td>2</td>\n",
       "      <td>5809.911100</td>\n",
       "      <td>32.0</td>\n",
       "      <td>0.0</td>\n",
       "    </tr>\n",
       "    <tr>\n",
       "      <th>11</th>\n",
       "      <th>ultra</th>\n",
       "      <td>3</td>\n",
       "      <td>7003.499363</td>\n",
       "      <td>54.0</td>\n",
       "      <td>0.0</td>\n",
       "    </tr>\n",
       "    <tr>\n",
       "      <th>...</th>\n",
       "      <th>...</th>\n",
       "      <th>...</th>\n",
       "      <td>...</td>\n",
       "      <td>...</td>\n",
       "      <td>...</td>\n",
       "      <td>...</td>\n",
       "    </tr>\n",
       "    <tr>\n",
       "      <th rowspan=\"5\" valign=\"top\">1534</th>\n",
       "      <th>6</th>\n",
       "      <th>free</th>\n",
       "      <td>2</td>\n",
       "      <td>3409.468534</td>\n",
       "      <td>25.0</td>\n",
       "      <td>0.0</td>\n",
       "    </tr>\n",
       "    <tr>\n",
       "      <th>8</th>\n",
       "      <th>free</th>\n",
       "      <td>2</td>\n",
       "      <td>7622.453034</td>\n",
       "      <td>48.0</td>\n",
       "      <td>0.0</td>\n",
       "    </tr>\n",
       "    <tr>\n",
       "      <th>9</th>\n",
       "      <th>free</th>\n",
       "      <td>1</td>\n",
       "      <td>4928.173852</td>\n",
       "      <td>23.0</td>\n",
       "      <td>0.0</td>\n",
       "    </tr>\n",
       "    <tr>\n",
       "      <th>11</th>\n",
       "      <th>free</th>\n",
       "      <td>4</td>\n",
       "      <td>13350.015305</td>\n",
       "      <td>77.0</td>\n",
       "      <td>0.0</td>\n",
       "    </tr>\n",
       "    <tr>\n",
       "      <th>12</th>\n",
       "      <th>free</th>\n",
       "      <td>1</td>\n",
       "      <td>2371.711192</td>\n",
       "      <td>16.0</td>\n",
       "      <td>0.0</td>\n",
       "    </tr>\n",
       "  </tbody>\n",
       "</table>\n",
       "<p>11331 rows × 4 columns</p>\n",
       "</div>"
      ],
      "text/plain": [
       "                                        count  distance_month_tot  \\\n",
       "user_id month_number subscription_type                              \n",
       "1       1            ultra                  2         7027.511294   \n",
       "        4            ultra                  1          754.159807   \n",
       "        8            ultra                  2         6723.470560   \n",
       "        10           ultra                  2         5809.911100   \n",
       "        11           ultra                  3         7003.499363   \n",
       "...                                       ...                 ...   \n",
       "1534    6            free                   2         3409.468534   \n",
       "        8            free                   2         7622.453034   \n",
       "        9            free                   1         4928.173852   \n",
       "        11           free                   4        13350.015305   \n",
       "        12           free                   1         2371.711192   \n",
       "\n",
       "                                        duration_month_tot  income_month  \n",
       "user_id month_number subscription_type                                    \n",
       "1       1            ultra                            42.0           0.0  \n",
       "        4            ultra                             7.0           0.0  \n",
       "        8            ultra                            45.0           0.0  \n",
       "        10           ultra                            32.0           0.0  \n",
       "        11           ultra                            54.0           0.0  \n",
       "...                                                    ...           ...  \n",
       "1534    6            free                             25.0           0.0  \n",
       "        8            free                             48.0           0.0  \n",
       "        9            free                             23.0           0.0  \n",
       "        11           free                             77.0           0.0  \n",
       "        12           free                             16.0           0.0  \n",
       "\n",
       "[11331 rows x 4 columns]"
      ]
     },
     "execution_count": 57,
     "metadata": {},
     "output_type": "execute_result"
    }
   ],
   "source": [
    "data_aggregated"
   ]
  },
  {
   "cell_type": "markdown",
   "id": "8471ba94",
   "metadata": {},
   "source": [
    "*С помощью функции заполним столбец значениями:*"
   ]
  },
  {
   "cell_type": "code",
   "execution_count": 58,
   "id": "6d522687",
   "metadata": {},
   "outputs": [],
   "source": [
    "user_unique = data_common['user_id'].unique()\n",
    "\n",
    "for i in user_unique:\n",
    "    test = (data_aggregated.loc[i, 'count'] * \\\n",
    "                data_common.loc[data_common['user_id'] == i, 'start_ride_price'].max()) + \\\n",
    "           (data_aggregated.loc[i, 'duration_month_tot'] * \\\n",
    "                data_common.loc[data_common['user_id'] == i, 'minute_price'].max()) + \\\n",
    "            data_common.loc[data_common['user_id'] == i, 'subscription_fee'].max()\n",
    "    \n",
    "    test = test.dropna()\n",
    "\n",
    "    for j in test.index:\n",
    "        data_aggregated.loc[(i,j,), 'income_month'] = test[j]"
   ]
  },
  {
   "cell_type": "markdown",
   "id": "7b38b152",
   "metadata": {},
   "source": [
    "*Округлим значения с помесячной выручкой и проверим действия:*"
   ]
  },
  {
   "cell_type": "code",
   "execution_count": 59,
   "id": "574ad9ec",
   "metadata": {},
   "outputs": [
    {
     "data": {
      "text/html": [
       "<div>\n",
       "<style scoped>\n",
       "    .dataframe tbody tr th:only-of-type {\n",
       "        vertical-align: middle;\n",
       "    }\n",
       "\n",
       "    .dataframe tbody tr th {\n",
       "        vertical-align: top;\n",
       "    }\n",
       "\n",
       "    .dataframe thead th {\n",
       "        text-align: right;\n",
       "    }\n",
       "</style>\n",
       "<table border=\"1\" class=\"dataframe\">\n",
       "  <thead>\n",
       "    <tr style=\"text-align: right;\">\n",
       "      <th></th>\n",
       "      <th></th>\n",
       "      <th></th>\n",
       "      <th>count</th>\n",
       "      <th>distance_month_tot</th>\n",
       "      <th>duration_month_tot</th>\n",
       "      <th>income_month</th>\n",
       "    </tr>\n",
       "    <tr>\n",
       "      <th>user_id</th>\n",
       "      <th>month_number</th>\n",
       "      <th>subscription_type</th>\n",
       "      <th></th>\n",
       "      <th></th>\n",
       "      <th></th>\n",
       "      <th></th>\n",
       "    </tr>\n",
       "  </thead>\n",
       "  <tbody>\n",
       "    <tr>\n",
       "      <th rowspan=\"5\" valign=\"top\">1</th>\n",
       "      <th>1</th>\n",
       "      <th>ultra</th>\n",
       "      <td>2</td>\n",
       "      <td>7027.511294</td>\n",
       "      <td>42.0</td>\n",
       "      <td>451.0</td>\n",
       "    </tr>\n",
       "    <tr>\n",
       "      <th>4</th>\n",
       "      <th>ultra</th>\n",
       "      <td>1</td>\n",
       "      <td>754.159807</td>\n",
       "      <td>7.0</td>\n",
       "      <td>241.0</td>\n",
       "    </tr>\n",
       "    <tr>\n",
       "      <th>8</th>\n",
       "      <th>ultra</th>\n",
       "      <td>2</td>\n",
       "      <td>6723.470560</td>\n",
       "      <td>45.0</td>\n",
       "      <td>469.0</td>\n",
       "    </tr>\n",
       "    <tr>\n",
       "      <th>10</th>\n",
       "      <th>ultra</th>\n",
       "      <td>2</td>\n",
       "      <td>5809.911100</td>\n",
       "      <td>32.0</td>\n",
       "      <td>391.0</td>\n",
       "    </tr>\n",
       "    <tr>\n",
       "      <th>11</th>\n",
       "      <th>ultra</th>\n",
       "      <td>3</td>\n",
       "      <td>7003.499363</td>\n",
       "      <td>54.0</td>\n",
       "      <td>523.0</td>\n",
       "    </tr>\n",
       "    <tr>\n",
       "      <th>...</th>\n",
       "      <th>...</th>\n",
       "      <th>...</th>\n",
       "      <td>...</td>\n",
       "      <td>...</td>\n",
       "      <td>...</td>\n",
       "      <td>...</td>\n",
       "    </tr>\n",
       "    <tr>\n",
       "      <th rowspan=\"5\" valign=\"top\">1534</th>\n",
       "      <th>6</th>\n",
       "      <th>free</th>\n",
       "      <td>2</td>\n",
       "      <td>3409.468534</td>\n",
       "      <td>25.0</td>\n",
       "      <td>300.0</td>\n",
       "    </tr>\n",
       "    <tr>\n",
       "      <th>8</th>\n",
       "      <th>free</th>\n",
       "      <td>2</td>\n",
       "      <td>7622.453034</td>\n",
       "      <td>48.0</td>\n",
       "      <td>484.0</td>\n",
       "    </tr>\n",
       "    <tr>\n",
       "      <th>9</th>\n",
       "      <th>free</th>\n",
       "      <td>1</td>\n",
       "      <td>4928.173852</td>\n",
       "      <td>23.0</td>\n",
       "      <td>234.0</td>\n",
       "    </tr>\n",
       "    <tr>\n",
       "      <th>11</th>\n",
       "      <th>free</th>\n",
       "      <td>4</td>\n",
       "      <td>13350.015305</td>\n",
       "      <td>77.0</td>\n",
       "      <td>816.0</td>\n",
       "    </tr>\n",
       "    <tr>\n",
       "      <th>12</th>\n",
       "      <th>free</th>\n",
       "      <td>1</td>\n",
       "      <td>2371.711192</td>\n",
       "      <td>16.0</td>\n",
       "      <td>178.0</td>\n",
       "    </tr>\n",
       "  </tbody>\n",
       "</table>\n",
       "<p>11331 rows × 4 columns</p>\n",
       "</div>"
      ],
      "text/plain": [
       "                                        count  distance_month_tot  \\\n",
       "user_id month_number subscription_type                              \n",
       "1       1            ultra                  2         7027.511294   \n",
       "        4            ultra                  1          754.159807   \n",
       "        8            ultra                  2         6723.470560   \n",
       "        10           ultra                  2         5809.911100   \n",
       "        11           ultra                  3         7003.499363   \n",
       "...                                       ...                 ...   \n",
       "1534    6            free                   2         3409.468534   \n",
       "        8            free                   2         7622.453034   \n",
       "        9            free                   1         4928.173852   \n",
       "        11           free                   4        13350.015305   \n",
       "        12           free                   1         2371.711192   \n",
       "\n",
       "                                        duration_month_tot  income_month  \n",
       "user_id month_number subscription_type                                    \n",
       "1       1            ultra                            42.0         451.0  \n",
       "        4            ultra                             7.0         241.0  \n",
       "        8            ultra                            45.0         469.0  \n",
       "        10           ultra                            32.0         391.0  \n",
       "        11           ultra                            54.0         523.0  \n",
       "...                                                    ...           ...  \n",
       "1534    6            free                             25.0         300.0  \n",
       "        8            free                             48.0         484.0  \n",
       "        9            free                             23.0         234.0  \n",
       "        11           free                             77.0         816.0  \n",
       "        12           free                             16.0         178.0  \n",
       "\n",
       "[11331 rows x 4 columns]"
      ]
     },
     "execution_count": 59,
     "metadata": {},
     "output_type": "execute_result"
    }
   ],
   "source": [
    "data_aggregated['income_month'] = np.ceil(data_aggregated['income_month'])\n",
    "data_aggregated"
   ]
  },
  {
   "cell_type": "markdown",
   "id": "933cbe0f",
   "metadata": {},
   "source": [
    "### Вывод"
   ]
  },
  {
   "cell_type": "markdown",
   "id": "a5ba8744",
   "metadata": {},
   "source": [
    "**Выполнены действия:**\n",
    "\n",
    "- создание датафрейма с агрегированными данными о поездках\n",
    "- добавление столбца с помесячной выручкой, которую принес каждый пользователь в столбец income_month"
   ]
  },
  {
   "cell_type": "markdown",
   "id": "41545ac0",
   "metadata": {},
   "source": [
    "## Шаг 6. Проверка гипотез"
   ]
  },
  {
   "cell_type": "markdown",
   "id": "49746ba6",
   "metadata": {},
   "source": [
    "### Гипотеза - \"тратят ли пользователи с подпиской больше времени на поездки\""
   ]
  },
  {
   "cell_type": "markdown",
   "id": "0d315ec8",
   "metadata": {},
   "source": [
    "**Обозначаем нулевую гипотезу H0** - пользователь с подпиской в среднем тратит столько же времени на поездку как и пользователь без подписки.\n",
    "**Обозначаем альтернативную гипотезу H1** - пользователь с подпиской в среднем тратит больше времени, чем пользователи без подписки."
   ]
  },
  {
   "cell_type": "code",
   "execution_count": 60,
   "id": "d87a36b7",
   "metadata": {},
   "outputs": [],
   "source": [
    "from scipy import stats as st"
   ]
  },
  {
   "cell_type": "code",
   "execution_count": 61,
   "id": "d6b56e50",
   "metadata": {},
   "outputs": [
    {
     "data": {
      "text/plain": [
       "'p-value: 1.2804098316645618e-34'"
      ]
     },
     "metadata": {},
     "output_type": "display_data"
    },
    {
     "name": "stdout",
     "output_type": "stream",
     "text": [
      "Отвергаем нулевую гипотезу\n",
      "18.54\n",
      "17.39\n",
      "\n"
     ]
    }
   ],
   "source": [
    "# пользователи с подпиской\n",
    "sample_ultra = data_users_type_ultra['duration_ultra']\n",
    "\n",
    "# пользователи без подписки\n",
    "sample_free = data_users_type_free['duration_free']\n",
    "\n",
    "alpha = 0.05 # уровень значимости\n",
    "\n",
    "# Проведение  t-теста\n",
    "results = st.ttest_ind(sample_ultra, sample_free, alternative = 'greater')\n",
    "\n",
    "display(f'p-value: {results.pvalue}')\n",
    "\n",
    "# Проверка значимости \n",
    "if (results.pvalue < alpha):\n",
    "    print(\"Отвергаем нулевую гипотезу\")\n",
    "else:\n",
    "    print(\"Не получилось отвергнуть нулевую гипотезу\")\n",
    "    \n",
    "# Посмотрим среднюю длительность поездок на разных тарифах   \n",
    "print(round(sample_ultra.mean(),2))\n",
    "print(round(sample_free.mean(),2))\n",
    "print()"
   ]
  },
  {
   "cell_type": "markdown",
   "id": "8a4d4b0f",
   "metadata": {},
   "source": [
    "**Нулевая гипотеза может быть отвергнута. Это значит, что пользователь с подпиской в среднем НЕ тратит столько же времени на поездку как и пользователь без подписки. И вполне вероятно, что пользователь с подпиской в среднем тратит больше времени, чем пользователи без подписки. **"
   ]
  },
  {
   "cell_type": "markdown",
   "id": "8f9e8bb7",
   "metadata": {},
   "source": [
    "### Гипотеза - \"можно ли сказать, что среднее расстояние, которое проезжают пользователи с подпиской за одну поездку, не превышает 3130 метров\""
   ]
  },
  {
   "cell_type": "markdown",
   "id": "3fe6db25",
   "metadata": {},
   "source": [
    "**Обозначаем нулевую гипотезу H0** - пользователь с подпиской в среднем проезжает расстояние равное 3130 метров.\n",
    "\n",
    "**Обозначаем альтернативную гипотезу H1** - пользователь с подпиской в среднем проезжает расстояние, большее чем 3130 м."
   ]
  },
  {
   "cell_type": "code",
   "execution_count": 62,
   "id": "cf523d47",
   "metadata": {},
   "outputs": [
    {
     "data": {
      "text/plain": [
       "'p-value: 0.9195368847849785'"
      ]
     },
     "metadata": {},
     "output_type": "display_data"
    },
    {
     "name": "stdout",
     "output_type": "stream",
     "text": [
      "Не получилось отвергнуть нулевую гипотезу\n"
     ]
    }
   ],
   "source": [
    "distance_value = 3130.0 #сколько метров должны проезжать\n",
    "\n",
    "alpha = 0.05 # уровень значимости\n",
    "\n",
    "# Проведение  t-теста\n",
    "results = st.ttest_1samp(a=data_users_type_ultra['distance_ultra'], popmean=distance_value, alternative='greater')\n",
    "\n",
    "display(f'p-value: {results.pvalue}')\n",
    "\n",
    "# Проверка значимости \n",
    "if results.pvalue < alpha:\n",
    "    print(\"Отвергаем нулевую гипотезу\")\n",
    "else:\n",
    "    print(\"Не получилось отвергнуть нулевую гипотезу\")"
   ]
  },
  {
   "cell_type": "markdown",
   "id": "97cd3b78",
   "metadata": {},
   "source": [
    "**Нулевая гипотеза не может быть отвергнута. Это означает, что пользователь с подпиской в среднем проезжает расстояние равное 3130 метров. С точки зрения износа самоката можно рассчитать сколько поездок может совершить один самокат, при его характеристиках. Также можно определить на сколько поездок приблизительно хватит заряда аккумулятора у самоката.**"
   ]
  },
  {
   "cell_type": "markdown",
   "id": "1bc314ce",
   "metadata": {},
   "source": [
    "### Гипотеза - \"будет ли помесячная выручка от пользователей с подпиской по месяцам выше, чем выручка от пользователей без подписки\""
   ]
  },
  {
   "cell_type": "markdown",
   "id": "aa876ee4",
   "metadata": {},
   "source": [
    "**Обозначаем нулевую гипотезу H0** - пользователь с подпиской в среднем приносят такую же выручку как и пользователи без подписки.\n",
    "\n",
    "**Обозначаем альтернативную гипотезу H1** - пользователь с подпиской в среднем приносит большую  выручку, чем пользователи без подписки."
   ]
  },
  {
   "cell_type": "code",
   "execution_count": 63,
   "id": "1e00c6e2",
   "metadata": {},
   "outputs": [
    {
     "data": {
      "text/plain": [
       "'p-value: 2.8130926188487286e-35'"
      ]
     },
     "metadata": {},
     "output_type": "display_data"
    },
    {
     "name": "stdout",
     "output_type": "stream",
     "text": [
      "Отвергаем нулевую гипотезу\n"
     ]
    }
   ],
   "source": [
    "# пользователи с подпиской\n",
    "income_ultra = data_aggregated.query('subscription_type == \"ultra\"')['income_month']\n",
    "\n",
    "# пользователи без подписки\n",
    "income_free = data_aggregated.query('subscription_type == \"free\"')['income_month']\n",
    "\n",
    "alpha = 0.05 # уровень значимости\n",
    "\n",
    "# Проведение  t-теста\n",
    "results = st.ttest_ind(income_ultra, income_free, alternative='greater')\n",
    "\n",
    "display(f'p-value: {results.pvalue}')\n",
    "\n",
    "# Проверка значимости \n",
    "if (results.pvalue < alpha):\n",
    "    print(\"Отвергаем нулевую гипотезу\")\n",
    "else:\n",
    "    print(\"Не получилось отвергнуть нулевую гипотезу\")\n",
    "    "
   ]
  },
  {
   "cell_type": "markdown",
   "id": "bedfa9d6",
   "metadata": {},
   "source": [
    "**Нулевая гипотеза может быть отвергнута. Это означает, что пользователь с подпиской в среднем НЕ приносят такую же выручку как и пользователи без подписки и вполне вероятно, что пользователь с подпиской в среднем приносит большую  выручку, чем пользователи без подписки.**"
   ]
  },
  {
   "cell_type": "markdown",
   "id": "d44aecdb",
   "metadata": {},
   "source": [
    "### Гипотеза - \"уменьшилось ли количество обращений в техническую поддержку после обновления сервера\""
   ]
  },
  {
   "cell_type": "markdown",
   "id": "d86cdc6c",
   "metadata": {},
   "source": [
    "*Из-за того, что есть файл где содержаться данные для каждого пользователя о количестве обращений до и после обновления, а не приходиться сравнивать одну генеральную совокупность с которой произошли изменения, то тут понадобится t-test с проверкой односторонней гипотезы (влево).*"
   ]
  },
  {
   "cell_type": "markdown",
   "id": "c852f38d",
   "metadata": {},
   "source": [
    "### Вывод"
   ]
  },
  {
   "cell_type": "markdown",
   "id": "0d3d8ed6",
   "metadata": {},
   "source": [
    "**Гипотеза - \"тратят ли пользователи с подпиской больше времени на поездки\"** - можно сказать, что пользователи с подпиской в среднем не тратят столько же времени на поездки, сколько пользователи без подписки и вполне вероятно, что они могут тратить в среднем больше времени на поездки.\n",
    "\n",
    "**Гипотеза - \"можно ли сказать, что среднее расстояние, которое проезжают пользователи с подпиской за одну поездку, не превышает 3130 метров\"** - можно сказать, что пользователь с подпиской в среднем проезжает расстояние равное 3130 метров.\n",
    "\n",
    "**Гипотеза - \"будет ли помесячная выручка от пользователей с подпиской по месяцам выше, чем выручка от пользователей без подписки\"** - можно сказать, что пользователь с подпиской в среднем не приносят такую же выручку как и пользователи без подписки.\n"
   ]
  },
  {
   "cell_type": "markdown",
   "id": "2e24326a",
   "metadata": {},
   "source": [
    "## Общий вывод"
   ]
  },
  {
   "cell_type": "markdown",
   "id": "27e80083",
   "metadata": {},
   "source": [
    "**Передали данные о работе сервиса аренды самокатов GoFast:**\n",
    "\n",
    "- Информация о пользователях содержится в датафрейме data_users. В нем описаны данные об имени пользователя, возрасте, городе и типе подписке (есть или нет). Тип данных соотвествует значениям столбцов.\n",
    "\n",
    "- Информация о поездках содержится в датафрейме data_rides_go. В нем описаны данные о расстоянии которое преодолел пользователь, продолжительности поездки и дате совершения поездки. Тип данных в столбце date не соответсвует значениям столбца.\n",
    "\n",
    "- Информация о подписках содержится в датафрейме data_subscr_go. В нем описаны данные о типе подписке, стоимости одной минуты по данной подписке, стоимости начала поездки и стоимости ежемесячного платежа. Тип данных соответствует значениям столбцов. \n",
    "\n",
    "- Датафреймы data_users и data_rides_go связаны между собой по уникальному идентификатору пользователя, а data_subscr_go содержит общую информацию по условиям подписок. \n",
    "\n",
    "**Выполнена предобработка данных:**\n",
    "\n",
    "Датафрейм о пользователях:\n",
    "\n",
    "- пропущенных значений не выявлено\n",
    "- удалены явные дубликаты\n",
    "- неявные дубликаты не выявлены, возможно по причине того, что при сборе данных каждому пользователю присваивают свой уникальный номер\n",
    "\n",
    "Датафрейм о поездках:\n",
    "\n",
    "- пропущенных значений не выявлено\n",
    "- явных дубликатов не выявлено\n",
    "- неявные дубликаты не выявлены, возможно по причине того, что при сборе данных каждому пользователю присваивают свой уникальный номер\n",
    "\n",
    "Датафрейм о подписках содержит общую информацию о тарифах и не нуждается в проверке\n",
    "\n",
    "**Описание информации о частоте встречаемости городов:**\n",
    "\n",
    "- чаще других самокаты в аренду берут в Пятигорске, реже всего в Москве\n",
    "- распределение значений практически находится на одном уровне, с незначительным отрывом между городами\n",
    "\n",
    "**Описание информации о соотношении пользователей с подпиской и без подписки:**\n",
    "\n",
    "- число пользователей без подписки превосходит число пользователей с подпиской, хотя и с небольшим отрывом. Возможно это связано также с тем, что некоторые пользователи лишь время от времени используют самокаты и в связи с эти не хотят оформлять подписку\n",
    "- пользователей без подписки - 54%, с подпиской - 46%\n",
    "\n",
    "**Описание информации о возрасте пользователей:**\n",
    "\n",
    "- средний возраст пользователей 25 лет, минимальный 12 лет и самые возрастные пользователи это лица в возрасте 43 лет\n",
    "- чаще остальных услугой пользуются лица в возрасте от 20 до 30 лет\n",
    "\n",
    "**Описание информации о расстоянии, которое пользователь преодолел за одну поездку:**\n",
    "\n",
    "- в среднем пользователь за одну поездку преодолевает расстояние около 3 км\n",
    "- по визуализации данных можно определить две группы пользователей: одна которая использует самокат для расстояний до 1,5 км, другая, та, что использует самокат от 1,5 км и до 7 км. Чаще всего люди предпочитают брать самокат на расстояния от 2 км и до 4,5 км\n",
    "\n",
    "**Описание и визуализация информации о продолжительности поездок:**\n",
    "\n",
    "- в среднем пользователь тратит около 18 минут на одну поездку, максимальное время поездки 41 минута\n",
    "- чаще всего длительность поездки составляет от 10 до 25 минут\n",
    "- в районе нулевого значения имеется пик в данных, вероятнее всего это может быть связано с ситуациями когда пользователь взял разряженный или неисправный самокат, а также возможно были финансовые трудности или вдруг началась сильная непогода\n",
    "\n",
    "**Пользователи с подпиской:**\n",
    "\n",
    "- Преодоленное расстояние: пользователей можно разделить на две группы, одна из которых использует самокат на расстояние от нескольких метров до 2 км, другая от 2 км до 5,5 км. Чаще всего пользователи с подпиской проходят расстояние в районе 2,5 - 3,5 км.\n",
    "\n",
    "- Время в пути: пользователи с подпиской тратят на дорогу от 5 до 40 минут. Чаще всего в они находятся в пути от 12 до 25 минут.\n",
    "\n",
    "**Пользователи без подписки:**\n",
    "\n",
    "- Преодоленное расстояние:пользователей можно разделить на две группы, одна из которых использует самокат на расстояние  до 1,5 км, другая от 1,5 км до 7 км. Чаще всего пользователи с подпиской проходят расстояние в районе 2 - 5 км. Также обозначен вопрос \"почему пользователи проделывают очень короткие расстояния\", предполагаемые причины может быть в технической неисправности, финансовых обстоятельствах или личных предпочтениях, а также в погодных условиях.В виду того, что у пользователей с подпиской такого не наблюдается, можно предположить, что дело все-таки или в личных предпочтениях или в финансовых обстоятельствах.\n",
    "\n",
    "- Время в пути: пользователи без подписки тратят на дорогу от 0 до 35 минут. Чаще всего в они находятся в пути от 10 до 25 минут. Замечено что 95 пользователей провели в пути меньше 2ух минут, возможно по причинам озвученным ранее.\n",
    "\n",
    "**Выполнены действия:**\n",
    "\n",
    "- создание датафрейма с агрегированными данными о поездках\n",
    "- добавление столбца с помесячной выручкой, которую принес каждый пользователь в столбец income_month\n",
    "\n",
    "**Гипотеза - \"тратят ли пользователи с подпиской больше времени на поездки\"** - можно сказать, что пользователи с подпиской в среднем не тратят столько же времени на поездки, сколько пользователи без подписки и вполне вероятно, что они могут тратить в среднем больше времени на поездки.\n",
    "\n",
    "**Гипотеза - \"можно ли сказать, что среднее расстояние, которое проезжают пользователи с подпиской за одну поездку, не превышает 3130 метров\"** - можно сказать, что пользователь с подпиской в среднем проезжает расстояние равное 3130 метров.С точки зрения износа самоката можно рассчитать сколько поездок может совершить один самокат, при его характеристиках. Также можно определить на сколько поездок приблизительно хватит заряда аккумулятора у самоката.\n",
    "\n",
    "**Гипотеза - \"будет ли помесячная выручка от пользователей с подпиской по месяцам выше, чем выручка от пользователей без подписки\"** - можно сказать, что пользователь с подпиской в среднем не приносят такую же выручку как и пользователи без подписки, и вполне вероятно, что пользователь с подпиской в среднем приносит большую  выручку, чем пользователи без подписки."
   ]
  }
 ],
 "metadata": {
  "ExecuteTimeLog": [
   {
    "duration": 399,
    "start_time": "2023-08-31T09:05:08.842Z"
   },
   {
    "duration": 241,
    "start_time": "2023-08-31T09:05:10.968Z"
   },
   {
    "duration": 3,
    "start_time": "2023-08-31T09:05:13.318Z"
   },
   {
    "duration": 79,
    "start_time": "2023-08-31T09:06:35.078Z"
   },
   {
    "duration": 79,
    "start_time": "2023-08-31T09:07:26.367Z"
   },
   {
    "duration": 39,
    "start_time": "2023-08-31T09:08:00.250Z"
   },
   {
    "duration": 75,
    "start_time": "2023-08-31T09:08:35.654Z"
   },
   {
    "duration": 62,
    "start_time": "2023-08-31T09:08:49.400Z"
   },
   {
    "duration": 17,
    "start_time": "2023-08-31T09:09:48.871Z"
   },
   {
    "duration": 15,
    "start_time": "2023-08-31T09:10:14.433Z"
   },
   {
    "duration": 12,
    "start_time": "2023-08-31T09:10:42.581Z"
   },
   {
    "duration": 9,
    "start_time": "2023-08-31T09:10:54.130Z"
   },
   {
    "duration": 13,
    "start_time": "2023-08-31T09:11:13.810Z"
   },
   {
    "duration": 9,
    "start_time": "2023-08-31T09:11:22.414Z"
   },
   {
    "duration": 7,
    "start_time": "2023-08-31T09:11:30.399Z"
   },
   {
    "duration": 8,
    "start_time": "2023-08-31T09:11:43.479Z"
   },
   {
    "duration": 9,
    "start_time": "2023-08-31T09:23:32.159Z"
   },
   {
    "duration": 13,
    "start_time": "2023-08-31T09:23:34.504Z"
   },
   {
    "duration": 6,
    "start_time": "2023-08-31T09:26:53.354Z"
   },
   {
    "duration": 12,
    "start_time": "2023-08-31T09:27:16.586Z"
   },
   {
    "duration": 13,
    "start_time": "2023-08-31T09:27:35.099Z"
   },
   {
    "duration": 9,
    "start_time": "2023-08-31T09:31:47.942Z"
   },
   {
    "duration": 8,
    "start_time": "2023-08-31T09:33:52.037Z"
   },
   {
    "duration": 5,
    "start_time": "2023-08-31T09:35:46.237Z"
   },
   {
    "duration": 8,
    "start_time": "2023-08-31T09:36:10.779Z"
   },
   {
    "duration": 3,
    "start_time": "2023-08-31T09:37:29.745Z"
   },
   {
    "duration": 9,
    "start_time": "2023-08-31T09:37:46.125Z"
   },
   {
    "duration": 6,
    "start_time": "2023-08-31T09:48:34.684Z"
   },
   {
    "duration": 9,
    "start_time": "2023-08-31T09:50:12.084Z"
   },
   {
    "duration": 7,
    "start_time": "2023-08-31T10:14:40.965Z"
   },
   {
    "duration": 581,
    "start_time": "2023-08-31T10:17:45.078Z"
   },
   {
    "duration": 6,
    "start_time": "2023-08-31T10:20:27.530Z"
   },
   {
    "duration": 151,
    "start_time": "2023-08-31T10:24:33.122Z"
   },
   {
    "duration": 169,
    "start_time": "2023-08-31T10:25:03.021Z"
   },
   {
    "duration": 171,
    "start_time": "2023-08-31T10:26:04.152Z"
   },
   {
    "duration": 206,
    "start_time": "2023-08-31T10:26:18.293Z"
   },
   {
    "duration": 11,
    "start_time": "2023-08-31T10:29:54.688Z"
   },
   {
    "duration": 337,
    "start_time": "2023-08-31T10:32:20.000Z"
   },
   {
    "duration": 8,
    "start_time": "2023-08-31T10:35:38.994Z"
   },
   {
    "duration": 375,
    "start_time": "2023-08-31T10:37:46.989Z"
   },
   {
    "duration": 9,
    "start_time": "2023-08-31T10:42:54.232Z"
   },
   {
    "duration": 10,
    "start_time": "2023-08-31T10:43:26.164Z"
   },
   {
    "duration": 322,
    "start_time": "2023-08-31T10:45:41.679Z"
   },
   {
    "duration": 12,
    "start_time": "2023-08-31T11:05:55.295Z"
   },
   {
    "duration": 12,
    "start_time": "2023-08-31T11:08:16.501Z"
   },
   {
    "duration": 16,
    "start_time": "2023-08-31T11:09:04.673Z"
   },
   {
    "duration": 16,
    "start_time": "2023-08-31T11:10:03.533Z"
   },
   {
    "duration": 36,
    "start_time": "2023-08-31T11:11:09.626Z"
   },
   {
    "duration": 9,
    "start_time": "2023-08-31T11:16:30.077Z"
   },
   {
    "duration": 3,
    "start_time": "2023-08-31T11:17:25.574Z"
   },
   {
    "duration": 16,
    "start_time": "2023-08-31T11:18:04.076Z"
   },
   {
    "duration": 6,
    "start_time": "2023-08-31T11:19:02.193Z"
   },
   {
    "duration": 4,
    "start_time": "2023-08-31T11:19:35.553Z"
   },
   {
    "duration": 12,
    "start_time": "2023-08-31T11:19:57.622Z"
   },
   {
    "duration": 2383,
    "start_time": "2023-08-31T11:26:19.226Z"
   },
   {
    "duration": 512,
    "start_time": "2023-08-31T11:27:38.512Z"
   },
   {
    "duration": 401,
    "start_time": "2023-08-31T11:29:33.758Z"
   },
   {
    "duration": 353,
    "start_time": "2023-08-31T11:29:41.476Z"
   },
   {
    "duration": 12,
    "start_time": "2023-08-31T11:32:48.887Z"
   },
   {
    "duration": 13,
    "start_time": "2023-08-31T11:38:13.684Z"
   },
   {
    "duration": 493,
    "start_time": "2023-08-31T11:40:07.632Z"
   },
   {
    "duration": 1126,
    "start_time": "2023-08-31T11:43:51.856Z"
   },
   {
    "duration": 1122,
    "start_time": "2023-08-31T11:53:22.847Z"
   },
   {
    "duration": 612,
    "start_time": "2023-08-31T11:59:27.517Z"
   },
   {
    "duration": 8,
    "start_time": "2023-08-31T12:03:53.000Z"
   },
   {
    "duration": 29,
    "start_time": "2023-08-31T13:27:39.946Z"
   },
   {
    "duration": 19,
    "start_time": "2023-08-31T13:28:06.500Z"
   },
   {
    "duration": 5,
    "start_time": "2023-08-31T13:29:10.173Z"
   },
   {
    "duration": 11,
    "start_time": "2023-08-31T13:29:47.667Z"
   },
   {
    "duration": 20,
    "start_time": "2023-08-31T13:30:19.675Z"
   },
   {
    "duration": 18529,
    "start_time": "2023-08-31T13:37:05.373Z"
   },
   {
    "duration": 17,
    "start_time": "2023-08-31T13:37:46.972Z"
   },
   {
    "duration": 459,
    "start_time": "2023-08-31T13:53:22.866Z"
   },
   {
    "duration": 10,
    "start_time": "2023-08-31T13:55:08.978Z"
   },
   {
    "duration": 1793,
    "start_time": "2023-08-31T14:05:45.097Z"
   },
   {
    "duration": 8,
    "start_time": "2023-08-31T14:06:16.962Z"
   },
   {
    "duration": 14,
    "start_time": "2023-08-31T14:12:20.338Z"
   },
   {
    "duration": 385,
    "start_time": "2023-08-31T14:36:48.723Z"
   },
   {
    "duration": 237,
    "start_time": "2023-08-31T14:36:49.110Z"
   },
   {
    "duration": 2,
    "start_time": "2023-08-31T14:36:49.349Z"
   },
   {
    "duration": 34,
    "start_time": "2023-08-31T14:36:49.353Z"
   },
   {
    "duration": 26,
    "start_time": "2023-08-31T14:36:49.389Z"
   },
   {
    "duration": 15,
    "start_time": "2023-08-31T14:36:49.416Z"
   },
   {
    "duration": 13,
    "start_time": "2023-08-31T14:36:49.433Z"
   },
   {
    "duration": 20,
    "start_time": "2023-08-31T14:36:49.447Z"
   },
   {
    "duration": 14,
    "start_time": "2023-08-31T14:36:49.468Z"
   },
   {
    "duration": 18,
    "start_time": "2023-08-31T14:36:49.484Z"
   },
   {
    "duration": 16,
    "start_time": "2023-08-31T14:36:49.503Z"
   },
   {
    "duration": 10,
    "start_time": "2023-08-31T14:36:49.520Z"
   },
   {
    "duration": 52,
    "start_time": "2023-08-31T14:36:49.531Z"
   },
   {
    "duration": 9,
    "start_time": "2023-08-31T14:36:49.585Z"
   },
   {
    "duration": 9,
    "start_time": "2023-08-31T14:36:49.596Z"
   },
   {
    "duration": 17,
    "start_time": "2023-08-31T14:36:49.607Z"
   },
   {
    "duration": 14,
    "start_time": "2023-08-31T14:36:49.625Z"
   },
   {
    "duration": 10,
    "start_time": "2023-08-31T14:36:49.640Z"
   },
   {
    "duration": 19,
    "start_time": "2023-08-31T14:36:49.652Z"
   },
   {
    "duration": 28,
    "start_time": "2023-08-31T14:36:49.673Z"
   },
   {
    "duration": 23,
    "start_time": "2023-08-31T14:36:49.703Z"
   },
   {
    "duration": 15,
    "start_time": "2023-08-31T14:36:49.728Z"
   },
   {
    "duration": 31,
    "start_time": "2023-08-31T14:36:49.745Z"
   },
   {
    "duration": 19,
    "start_time": "2023-08-31T14:36:49.778Z"
   },
   {
    "duration": 19,
    "start_time": "2023-08-31T14:36:49.798Z"
   },
   {
    "duration": 12,
    "start_time": "2023-08-31T14:36:49.819Z"
   },
   {
    "duration": 345,
    "start_time": "2023-08-31T14:36:49.832Z"
   },
   {
    "duration": 5,
    "start_time": "2023-08-31T14:36:50.182Z"
   },
   {
    "duration": 173,
    "start_time": "2023-08-31T14:36:50.189Z"
   },
   {
    "duration": 18,
    "start_time": "2023-08-31T14:36:50.364Z"
   },
   {
    "duration": 303,
    "start_time": "2023-08-31T14:36:50.383Z"
   },
   {
    "duration": 10,
    "start_time": "2023-08-31T14:36:50.688Z"
   },
   {
    "duration": 405,
    "start_time": "2023-08-31T14:36:50.700Z"
   },
   {
    "duration": 9,
    "start_time": "2023-08-31T14:36:51.106Z"
   },
   {
    "duration": 323,
    "start_time": "2023-08-31T14:36:51.117Z"
   },
   {
    "duration": 10,
    "start_time": "2023-08-31T14:36:51.441Z"
   },
   {
    "duration": 19,
    "start_time": "2023-08-31T14:36:51.453Z"
   },
   {
    "duration": 18,
    "start_time": "2023-08-31T14:36:51.474Z"
   },
   {
    "duration": 9,
    "start_time": "2023-08-31T14:36:51.494Z"
   },
   {
    "duration": 19,
    "start_time": "2023-08-31T14:36:51.504Z"
   },
   {
    "duration": 7,
    "start_time": "2023-08-31T14:36:51.525Z"
   },
   {
    "duration": 4,
    "start_time": "2023-08-31T14:36:51.534Z"
   },
   {
    "duration": 48,
    "start_time": "2023-08-31T14:36:51.539Z"
   },
   {
    "duration": 11,
    "start_time": "2023-08-31T14:36:51.588Z"
   },
   {
    "duration": 14,
    "start_time": "2023-08-31T14:36:51.601Z"
   },
   {
    "duration": 13,
    "start_time": "2023-08-31T14:36:51.617Z"
   },
   {
    "duration": 326,
    "start_time": "2023-08-31T14:36:51.632Z"
   },
   {
    "duration": 316,
    "start_time": "2023-08-31T14:36:51.959Z"
   },
   {
    "duration": 13,
    "start_time": "2023-08-31T14:36:52.280Z"
   },
   {
    "duration": 27,
    "start_time": "2023-08-31T14:36:52.295Z"
   },
   {
    "duration": 538,
    "start_time": "2023-08-31T14:36:52.324Z"
   },
   {
    "duration": 1142,
    "start_time": "2023-08-31T14:36:52.864Z"
   },
   {
    "duration": 103,
    "start_time": "2023-08-31T14:36:54.008Z"
   },
   {
    "duration": 0,
    "start_time": "2023-08-31T14:36:54.113Z"
   },
   {
    "duration": 0,
    "start_time": "2023-08-31T14:36:54.114Z"
   },
   {
    "duration": 0,
    "start_time": "2023-08-31T14:36:54.115Z"
   },
   {
    "duration": 0,
    "start_time": "2023-08-31T14:36:54.116Z"
   },
   {
    "duration": 0,
    "start_time": "2023-08-31T14:36:54.117Z"
   },
   {
    "duration": 0,
    "start_time": "2023-08-31T14:36:54.118Z"
   },
   {
    "duration": 0,
    "start_time": "2023-08-31T14:36:54.119Z"
   },
   {
    "duration": 0,
    "start_time": "2023-08-31T14:36:54.120Z"
   },
   {
    "duration": 0,
    "start_time": "2023-08-31T14:36:54.121Z"
   },
   {
    "duration": 0,
    "start_time": "2023-08-31T14:36:54.122Z"
   },
   {
    "duration": 0,
    "start_time": "2023-08-31T14:36:54.123Z"
   },
   {
    "duration": 0,
    "start_time": "2023-08-31T14:36:54.124Z"
   },
   {
    "duration": 0,
    "start_time": "2023-08-31T14:36:54.125Z"
   },
   {
    "duration": 0,
    "start_time": "2023-08-31T14:36:54.126Z"
   },
   {
    "duration": 395,
    "start_time": "2023-08-31T14:39:51.119Z"
   },
   {
    "duration": 87,
    "start_time": "2023-08-31T14:39:51.515Z"
   },
   {
    "duration": 2,
    "start_time": "2023-08-31T14:39:51.604Z"
   },
   {
    "duration": 31,
    "start_time": "2023-08-31T14:39:51.608Z"
   },
   {
    "duration": 27,
    "start_time": "2023-08-31T14:39:51.641Z"
   },
   {
    "duration": 15,
    "start_time": "2023-08-31T14:39:51.670Z"
   },
   {
    "duration": 12,
    "start_time": "2023-08-31T14:39:51.687Z"
   },
   {
    "duration": 30,
    "start_time": "2023-08-31T14:39:51.701Z"
   },
   {
    "duration": 26,
    "start_time": "2023-08-31T14:39:51.732Z"
   },
   {
    "duration": 21,
    "start_time": "2023-08-31T14:39:51.761Z"
   },
   {
    "duration": 33,
    "start_time": "2023-08-31T14:39:51.784Z"
   },
   {
    "duration": 10,
    "start_time": "2023-08-31T14:39:51.819Z"
   },
   {
    "duration": 61,
    "start_time": "2023-08-31T14:39:51.831Z"
   },
   {
    "duration": 19,
    "start_time": "2023-08-31T14:39:51.894Z"
   },
   {
    "duration": 8,
    "start_time": "2023-08-31T14:39:51.915Z"
   },
   {
    "duration": 12,
    "start_time": "2023-08-31T14:39:51.925Z"
   },
   {
    "duration": 9,
    "start_time": "2023-08-31T14:39:51.938Z"
   },
   {
    "duration": 35,
    "start_time": "2023-08-31T14:39:51.949Z"
   },
   {
    "duration": 31,
    "start_time": "2023-08-31T14:39:51.985Z"
   },
   {
    "duration": 19,
    "start_time": "2023-08-31T14:39:52.018Z"
   },
   {
    "duration": 19,
    "start_time": "2023-08-31T14:39:52.038Z"
   },
   {
    "duration": 9,
    "start_time": "2023-08-31T14:39:52.059Z"
   },
   {
    "duration": 21,
    "start_time": "2023-08-31T14:39:52.069Z"
   },
   {
    "duration": 10,
    "start_time": "2023-08-31T14:39:52.092Z"
   },
   {
    "duration": 16,
    "start_time": "2023-08-31T14:39:52.104Z"
   },
   {
    "duration": 9,
    "start_time": "2023-08-31T14:39:52.122Z"
   },
   {
    "duration": 336,
    "start_time": "2023-08-31T14:39:52.133Z"
   },
   {
    "duration": 11,
    "start_time": "2023-08-31T14:39:52.474Z"
   },
   {
    "duration": 179,
    "start_time": "2023-08-31T14:39:52.486Z"
   },
   {
    "duration": 14,
    "start_time": "2023-08-31T14:39:52.667Z"
   },
   {
    "duration": 364,
    "start_time": "2023-08-31T14:39:52.683Z"
   },
   {
    "duration": 10,
    "start_time": "2023-08-31T14:39:53.049Z"
   },
   {
    "duration": 408,
    "start_time": "2023-08-31T14:39:53.061Z"
   },
   {
    "duration": 9,
    "start_time": "2023-08-31T14:39:53.480Z"
   },
   {
    "duration": 328,
    "start_time": "2023-08-31T14:39:53.491Z"
   },
   {
    "duration": 13,
    "start_time": "2023-08-31T14:39:53.821Z"
   },
   {
    "duration": 9,
    "start_time": "2023-08-31T14:39:53.836Z"
   },
   {
    "duration": 37,
    "start_time": "2023-08-31T14:39:53.847Z"
   },
   {
    "duration": 9,
    "start_time": "2023-08-31T14:39:53.886Z"
   },
   {
    "duration": 35,
    "start_time": "2023-08-31T14:39:53.896Z"
   },
   {
    "duration": 21,
    "start_time": "2023-08-31T14:39:53.933Z"
   },
   {
    "duration": 47,
    "start_time": "2023-08-31T14:39:53.956Z"
   },
   {
    "duration": 21,
    "start_time": "2023-08-31T14:39:54.005Z"
   },
   {
    "duration": 12,
    "start_time": "2023-08-31T14:39:54.028Z"
   },
   {
    "duration": 12,
    "start_time": "2023-08-31T14:39:54.041Z"
   },
   {
    "duration": 38,
    "start_time": "2023-08-31T14:39:54.055Z"
   },
   {
    "duration": 335,
    "start_time": "2023-08-31T14:39:54.095Z"
   },
   {
    "duration": 319,
    "start_time": "2023-08-31T14:39:54.432Z"
   },
   {
    "duration": 13,
    "start_time": "2023-08-31T14:39:54.753Z"
   },
   {
    "duration": 36,
    "start_time": "2023-08-31T14:39:54.767Z"
   },
   {
    "duration": 502,
    "start_time": "2023-08-31T14:39:54.804Z"
   },
   {
    "duration": 1186,
    "start_time": "2023-08-31T14:39:55.308Z"
   },
   {
    "duration": 563,
    "start_time": "2023-08-31T14:39:56.495Z"
   },
   {
    "duration": 8,
    "start_time": "2023-08-31T14:39:57.059Z"
   },
   {
    "duration": 157,
    "start_time": "2023-08-31T14:39:57.081Z"
   },
   {
    "duration": 19,
    "start_time": "2023-08-31T14:39:57.240Z"
   },
   {
    "duration": 23,
    "start_time": "2023-08-31T14:39:57.261Z"
   },
   {
    "duration": 15,
    "start_time": "2023-08-31T14:39:57.286Z"
   },
   {
    "duration": 22,
    "start_time": "2023-08-31T14:39:57.303Z"
   },
   {
    "duration": 18894,
    "start_time": "2023-08-31T14:39:57.326Z"
   },
   {
    "duration": 128,
    "start_time": "2023-08-31T14:40:16.222Z"
   },
   {
    "duration": 0,
    "start_time": "2023-08-31T14:40:16.352Z"
   },
   {
    "duration": 0,
    "start_time": "2023-08-31T14:40:16.354Z"
   },
   {
    "duration": 0,
    "start_time": "2023-08-31T14:40:16.355Z"
   },
   {
    "duration": 0,
    "start_time": "2023-08-31T14:40:16.356Z"
   },
   {
    "duration": 0,
    "start_time": "2023-08-31T14:40:16.357Z"
   },
   {
    "duration": 3,
    "start_time": "2023-08-31T14:41:11.905Z"
   },
   {
    "duration": 3,
    "start_time": "2023-08-31T14:41:27.863Z"
   },
   {
    "duration": 417,
    "start_time": "2023-08-31T14:41:58.877Z"
   },
   {
    "duration": 113,
    "start_time": "2023-08-31T14:42:01.022Z"
   },
   {
    "duration": 2,
    "start_time": "2023-08-31T14:42:03.104Z"
   },
   {
    "duration": 31,
    "start_time": "2023-08-31T14:42:05.650Z"
   },
   {
    "duration": 39,
    "start_time": "2023-08-31T14:42:07.720Z"
   },
   {
    "duration": 27,
    "start_time": "2023-08-31T14:42:09.787Z"
   },
   {
    "duration": 13,
    "start_time": "2023-08-31T14:42:12.179Z"
   },
   {
    "duration": 16,
    "start_time": "2023-08-31T14:42:14.679Z"
   },
   {
    "duration": 16,
    "start_time": "2023-08-31T14:42:17.383Z"
   },
   {
    "duration": 9,
    "start_time": "2023-08-31T14:42:19.404Z"
   },
   {
    "duration": 11,
    "start_time": "2023-08-31T14:42:21.939Z"
   },
   {
    "duration": 7,
    "start_time": "2023-08-31T14:42:24.268Z"
   },
   {
    "duration": 9,
    "start_time": "2023-08-31T14:42:27.429Z"
   },
   {
    "duration": 11,
    "start_time": "2023-08-31T14:42:29.811Z"
   },
   {
    "duration": 5,
    "start_time": "2023-08-31T14:42:32.137Z"
   },
   {
    "duration": 12,
    "start_time": "2023-08-31T14:42:34.163Z"
   },
   {
    "duration": 12,
    "start_time": "2023-08-31T14:42:36.731Z"
   },
   {
    "duration": 6,
    "start_time": "2023-08-31T14:42:39.457Z"
   },
   {
    "duration": 6,
    "start_time": "2023-08-31T14:42:41.733Z"
   },
   {
    "duration": 5,
    "start_time": "2023-08-31T14:42:43.909Z"
   },
   {
    "duration": 7,
    "start_time": "2023-08-31T14:42:46.236Z"
   },
   {
    "duration": 3,
    "start_time": "2023-08-31T14:42:48.587Z"
   },
   {
    "duration": 9,
    "start_time": "2023-08-31T14:42:50.604Z"
   },
   {
    "duration": 7,
    "start_time": "2023-08-31T14:42:53.180Z"
   },
   {
    "duration": 8,
    "start_time": "2023-08-31T14:42:55.692Z"
   },
   {
    "duration": 6,
    "start_time": "2023-08-31T14:42:59.046Z"
   },
   {
    "duration": 375,
    "start_time": "2023-08-31T14:43:04.200Z"
   },
   {
    "duration": 6,
    "start_time": "2023-08-31T14:43:07.926Z"
   },
   {
    "duration": 165,
    "start_time": "2023-08-31T14:43:16.193Z"
   },
   {
    "duration": 8,
    "start_time": "2023-08-31T14:43:20.906Z"
   },
   {
    "duration": 287,
    "start_time": "2023-08-31T14:43:25.505Z"
   },
   {
    "duration": 11,
    "start_time": "2023-08-31T14:43:29.176Z"
   },
   {
    "duration": 398,
    "start_time": "2023-08-31T14:43:33.693Z"
   },
   {
    "duration": 9,
    "start_time": "2023-08-31T14:43:37.858Z"
   },
   {
    "duration": 326,
    "start_time": "2023-08-31T14:43:42.436Z"
   },
   {
    "duration": 12,
    "start_time": "2023-08-31T14:43:51.314Z"
   },
   {
    "duration": 12,
    "start_time": "2023-08-31T14:43:53.490Z"
   },
   {
    "duration": 15,
    "start_time": "2023-08-31T14:43:55.832Z"
   },
   {
    "duration": 15,
    "start_time": "2023-08-31T14:43:58.688Z"
   },
   {
    "duration": 34,
    "start_time": "2023-08-31T14:44:01.631Z"
   },
   {
    "duration": 12,
    "start_time": "2023-08-31T14:44:04.954Z"
   },
   {
    "duration": 4,
    "start_time": "2023-08-31T14:44:07.096Z"
   },
   {
    "duration": 13,
    "start_time": "2023-08-31T14:44:09.592Z"
   },
   {
    "duration": 6,
    "start_time": "2023-08-31T14:44:12.298Z"
   },
   {
    "duration": 4,
    "start_time": "2023-08-31T14:44:14.492Z"
   },
   {
    "duration": 12,
    "start_time": "2023-08-31T14:44:17.136Z"
   },
   {
    "duration": 311,
    "start_time": "2023-08-31T14:44:21.752Z"
   },
   {
    "duration": 316,
    "start_time": "2023-08-31T14:44:26.791Z"
   },
   {
    "duration": 13,
    "start_time": "2023-08-31T14:44:31.327Z"
   },
   {
    "duration": 12,
    "start_time": "2023-08-31T14:44:34.160Z"
   },
   {
    "duration": 492,
    "start_time": "2023-08-31T14:44:39.753Z"
   },
   {
    "duration": 1128,
    "start_time": "2023-08-31T14:44:47.513Z"
   },
   {
    "duration": 472,
    "start_time": "2023-08-31T14:44:55.424Z"
   },
   {
    "duration": 9,
    "start_time": "2023-08-31T14:45:00.848Z"
   },
   {
    "duration": 131,
    "start_time": "2023-08-31T14:45:05.983Z"
   },
   {
    "duration": 17,
    "start_time": "2023-08-31T14:45:08.977Z"
   },
   {
    "duration": 4,
    "start_time": "2023-08-31T14:45:12.970Z"
   },
   {
    "duration": 13,
    "start_time": "2023-08-31T14:45:15.390Z"
   },
   {
    "duration": 18,
    "start_time": "2023-08-31T14:45:17.697Z"
   },
   {
    "duration": 18762,
    "start_time": "2023-08-31T14:45:21.251Z"
   },
   {
    "duration": 18,
    "start_time": "2023-08-31T14:45:51.376Z"
   },
   {
    "duration": 393,
    "start_time": "2023-08-31T14:45:57.612Z"
   },
   {
    "duration": 9,
    "start_time": "2023-08-31T14:46:01.264Z"
   },
   {
    "duration": 8,
    "start_time": "2023-08-31T14:46:06.983Z"
   },
   {
    "duration": 14,
    "start_time": "2023-08-31T14:46:11.411Z"
   },
   {
    "duration": 419,
    "start_time": "2023-08-31T15:07:49.243Z"
   },
   {
    "duration": 108,
    "start_time": "2023-08-31T15:07:49.664Z"
   },
   {
    "duration": 3,
    "start_time": "2023-08-31T15:07:49.774Z"
   },
   {
    "duration": 113,
    "start_time": "2023-08-31T15:07:49.779Z"
   },
   {
    "duration": 77,
    "start_time": "2023-08-31T15:07:49.895Z"
   },
   {
    "duration": 55,
    "start_time": "2023-08-31T15:07:49.974Z"
   },
   {
    "duration": 13,
    "start_time": "2023-08-31T15:07:50.031Z"
   },
   {
    "duration": 46,
    "start_time": "2023-08-31T15:07:50.046Z"
   },
   {
    "duration": 30,
    "start_time": "2023-08-31T15:07:50.094Z"
   },
   {
    "duration": 31,
    "start_time": "2023-08-31T15:07:50.126Z"
   },
   {
    "duration": 25,
    "start_time": "2023-08-31T15:07:50.159Z"
   },
   {
    "duration": 16,
    "start_time": "2023-08-31T15:07:50.186Z"
   },
   {
    "duration": 16,
    "start_time": "2023-08-31T15:07:50.204Z"
   },
   {
    "duration": 11,
    "start_time": "2023-08-31T15:07:50.265Z"
   },
   {
    "duration": 18,
    "start_time": "2023-08-31T15:07:50.278Z"
   },
   {
    "duration": 23,
    "start_time": "2023-08-31T15:07:50.298Z"
   },
   {
    "duration": 20,
    "start_time": "2023-08-31T15:07:50.323Z"
   },
   {
    "duration": 9,
    "start_time": "2023-08-31T15:07:50.345Z"
   },
   {
    "duration": 9,
    "start_time": "2023-08-31T15:07:50.356Z"
   },
   {
    "duration": 17,
    "start_time": "2023-08-31T15:07:50.367Z"
   },
   {
    "duration": 27,
    "start_time": "2023-08-31T15:07:50.386Z"
   },
   {
    "duration": 4,
    "start_time": "2023-08-31T15:07:50.415Z"
   },
   {
    "duration": 19,
    "start_time": "2023-08-31T15:07:50.420Z"
   },
   {
    "duration": 14,
    "start_time": "2023-08-31T15:07:50.441Z"
   },
   {
    "duration": 11,
    "start_time": "2023-08-31T15:07:50.457Z"
   },
   {
    "duration": 37,
    "start_time": "2023-08-31T15:07:50.471Z"
   },
   {
    "duration": 367,
    "start_time": "2023-08-31T15:07:50.511Z"
   },
   {
    "duration": 6,
    "start_time": "2023-08-31T15:07:50.880Z"
   },
   {
    "duration": 217,
    "start_time": "2023-08-31T15:07:50.888Z"
   },
   {
    "duration": 9,
    "start_time": "2023-08-31T15:07:51.107Z"
   },
   {
    "duration": 334,
    "start_time": "2023-08-31T15:07:51.117Z"
   },
   {
    "duration": 9,
    "start_time": "2023-08-31T15:07:51.453Z"
   },
   {
    "duration": 418,
    "start_time": "2023-08-31T15:07:51.463Z"
   },
   {
    "duration": 13,
    "start_time": "2023-08-31T15:07:51.883Z"
   },
   {
    "duration": 351,
    "start_time": "2023-08-31T15:07:51.910Z"
   },
   {
    "duration": 11,
    "start_time": "2023-08-31T15:07:52.263Z"
   },
   {
    "duration": 22,
    "start_time": "2023-08-31T15:07:52.276Z"
   },
   {
    "duration": 27,
    "start_time": "2023-08-31T15:07:52.300Z"
   },
   {
    "duration": 17,
    "start_time": "2023-08-31T15:07:52.328Z"
   },
   {
    "duration": 24,
    "start_time": "2023-08-31T15:07:52.346Z"
   },
   {
    "duration": 35,
    "start_time": "2023-08-31T15:07:52.375Z"
   },
   {
    "duration": 7,
    "start_time": "2023-08-31T15:07:52.413Z"
   },
   {
    "duration": 131,
    "start_time": "2023-08-31T15:07:52.423Z"
   },
   {
    "duration": 36,
    "start_time": "2023-08-31T15:07:52.557Z"
   },
   {
    "duration": 15,
    "start_time": "2023-08-31T15:07:52.596Z"
   },
   {
    "duration": 32,
    "start_time": "2023-08-31T15:07:52.614Z"
   },
   {
    "duration": 355,
    "start_time": "2023-08-31T15:07:52.649Z"
   },
   {
    "duration": 330,
    "start_time": "2023-08-31T15:07:53.008Z"
   },
   {
    "duration": 13,
    "start_time": "2023-08-31T15:07:53.340Z"
   },
   {
    "duration": 14,
    "start_time": "2023-08-31T15:07:53.355Z"
   },
   {
    "duration": 567,
    "start_time": "2023-08-31T15:07:53.371Z"
   },
   {
    "duration": 1226,
    "start_time": "2023-08-31T15:07:53.941Z"
   },
   {
    "duration": 669,
    "start_time": "2023-08-31T15:07:55.170Z"
   },
   {
    "duration": 10,
    "start_time": "2023-08-31T15:07:55.841Z"
   },
   {
    "duration": 31,
    "start_time": "2023-08-31T15:07:55.853Z"
   },
   {
    "duration": 40,
    "start_time": "2023-08-31T15:07:55.886Z"
   },
   {
    "duration": 5,
    "start_time": "2023-08-31T15:07:55.928Z"
   },
   {
    "duration": 18,
    "start_time": "2023-08-31T15:07:55.934Z"
   },
   {
    "duration": 63,
    "start_time": "2023-08-31T15:07:55.953Z"
   },
   {
    "duration": 20070,
    "start_time": "2023-08-31T15:07:56.017Z"
   },
   {
    "duration": 34,
    "start_time": "2023-08-31T15:08:16.089Z"
   },
   {
    "duration": 546,
    "start_time": "2023-08-31T15:08:16.125Z"
   },
   {
    "duration": 12,
    "start_time": "2023-08-31T15:08:16.673Z"
   },
   {
    "duration": 25,
    "start_time": "2023-08-31T15:08:16.687Z"
   },
   {
    "duration": 27,
    "start_time": "2023-08-31T15:08:16.714Z"
   },
   {
    "duration": 474,
    "start_time": "2023-08-31T17:56:46.496Z"
   },
   {
    "duration": 82,
    "start_time": "2023-08-31T17:56:46.972Z"
   },
   {
    "duration": 3,
    "start_time": "2023-08-31T17:56:47.056Z"
   },
   {
    "duration": 37,
    "start_time": "2023-08-31T17:56:47.061Z"
   },
   {
    "duration": 36,
    "start_time": "2023-08-31T17:56:47.101Z"
   },
   {
    "duration": 16,
    "start_time": "2023-08-31T17:56:47.138Z"
   },
   {
    "duration": 13,
    "start_time": "2023-08-31T17:56:47.156Z"
   },
   {
    "duration": 17,
    "start_time": "2023-08-31T17:56:47.171Z"
   },
   {
    "duration": 14,
    "start_time": "2023-08-31T17:56:47.190Z"
   },
   {
    "duration": 17,
    "start_time": "2023-08-31T17:56:47.206Z"
   },
   {
    "duration": 36,
    "start_time": "2023-08-31T17:56:47.227Z"
   },
   {
    "duration": 20,
    "start_time": "2023-08-31T17:56:47.265Z"
   },
   {
    "duration": 12,
    "start_time": "2023-08-31T17:56:47.290Z"
   },
   {
    "duration": 12,
    "start_time": "2023-08-31T17:56:47.359Z"
   },
   {
    "duration": 6,
    "start_time": "2023-08-31T17:56:47.372Z"
   },
   {
    "duration": 46,
    "start_time": "2023-08-31T17:56:47.380Z"
   },
   {
    "duration": 12,
    "start_time": "2023-08-31T17:56:47.429Z"
   },
   {
    "duration": 8,
    "start_time": "2023-08-31T17:56:47.443Z"
   },
   {
    "duration": 8,
    "start_time": "2023-08-31T17:56:47.453Z"
   },
   {
    "duration": 6,
    "start_time": "2023-08-31T17:56:47.463Z"
   },
   {
    "duration": 7,
    "start_time": "2023-08-31T17:56:47.471Z"
   },
   {
    "duration": 46,
    "start_time": "2023-08-31T17:56:47.479Z"
   },
   {
    "duration": 9,
    "start_time": "2023-08-31T17:56:47.528Z"
   },
   {
    "duration": 8,
    "start_time": "2023-08-31T17:56:47.539Z"
   },
   {
    "duration": 10,
    "start_time": "2023-08-31T17:56:47.549Z"
   },
   {
    "duration": 8,
    "start_time": "2023-08-31T17:56:47.561Z"
   },
   {
    "duration": 394,
    "start_time": "2023-08-31T17:56:47.571Z"
   },
   {
    "duration": 8,
    "start_time": "2023-08-31T17:56:47.966Z"
   },
   {
    "duration": 181,
    "start_time": "2023-08-31T17:56:47.975Z"
   },
   {
    "duration": 8,
    "start_time": "2023-08-31T17:56:48.158Z"
   },
   {
    "duration": 362,
    "start_time": "2023-08-31T17:56:48.168Z"
   },
   {
    "duration": 10,
    "start_time": "2023-08-31T17:56:48.532Z"
   },
   {
    "duration": 465,
    "start_time": "2023-08-31T17:56:48.544Z"
   },
   {
    "duration": 16,
    "start_time": "2023-08-31T17:56:49.021Z"
   },
   {
    "duration": 391,
    "start_time": "2023-08-31T17:56:49.039Z"
   },
   {
    "duration": 12,
    "start_time": "2023-08-31T17:56:49.432Z"
   },
   {
    "duration": 13,
    "start_time": "2023-08-31T17:56:49.446Z"
   },
   {
    "duration": 20,
    "start_time": "2023-08-31T17:56:49.462Z"
   },
   {
    "duration": 45,
    "start_time": "2023-08-31T17:56:49.484Z"
   },
   {
    "duration": 22,
    "start_time": "2023-08-31T17:56:49.531Z"
   },
   {
    "duration": 9,
    "start_time": "2023-08-31T17:56:49.557Z"
   },
   {
    "duration": 3,
    "start_time": "2023-08-31T17:56:49.568Z"
   },
   {
    "duration": 42,
    "start_time": "2023-08-31T17:56:49.573Z"
   },
   {
    "duration": 7,
    "start_time": "2023-08-31T17:56:49.622Z"
   },
   {
    "duration": 4,
    "start_time": "2023-08-31T17:56:49.631Z"
   },
   {
    "duration": 18,
    "start_time": "2023-08-31T17:56:49.637Z"
   },
   {
    "duration": 377,
    "start_time": "2023-08-31T17:56:49.657Z"
   },
   {
    "duration": 354,
    "start_time": "2023-08-31T17:56:50.036Z"
   },
   {
    "duration": 25,
    "start_time": "2023-08-31T17:56:50.392Z"
   },
   {
    "duration": 19,
    "start_time": "2023-08-31T17:56:50.420Z"
   },
   {
    "duration": 618,
    "start_time": "2023-08-31T17:56:50.441Z"
   },
   {
    "duration": 1307,
    "start_time": "2023-08-31T17:56:51.062Z"
   },
   {
    "duration": 778,
    "start_time": "2023-08-31T17:56:52.371Z"
   },
   {
    "duration": 8,
    "start_time": "2023-08-31T17:56:53.151Z"
   },
   {
    "duration": 48,
    "start_time": "2023-08-31T17:56:53.161Z"
   },
   {
    "duration": 22,
    "start_time": "2023-08-31T17:56:53.212Z"
   },
   {
    "duration": 4,
    "start_time": "2023-08-31T17:56:53.237Z"
   },
   {
    "duration": 18,
    "start_time": "2023-08-31T17:56:53.243Z"
   },
   {
    "duration": 18,
    "start_time": "2023-08-31T17:56:53.262Z"
   },
   {
    "duration": 20855,
    "start_time": "2023-08-31T17:56:53.309Z"
   },
   {
    "duration": 18,
    "start_time": "2023-08-31T17:57:14.166Z"
   },
   {
    "duration": 501,
    "start_time": "2023-08-31T17:57:14.186Z"
   },
   {
    "duration": 22,
    "start_time": "2023-08-31T17:57:14.689Z"
   },
   {
    "duration": 8,
    "start_time": "2023-08-31T17:57:14.719Z"
   },
   {
    "duration": 17,
    "start_time": "2023-08-31T17:57:14.729Z"
   },
   {
    "duration": 19,
    "start_time": "2023-08-31T18:02:17.162Z"
   },
   {
    "duration": 20,
    "start_time": "2023-08-31T18:02:22.136Z"
   },
   {
    "duration": 13,
    "start_time": "2023-08-31T18:05:21.162Z"
   },
   {
    "duration": 8,
    "start_time": "2023-08-31T18:06:25.633Z"
   },
   {
    "duration": 170,
    "start_time": "2023-08-31T18:07:29.582Z"
   },
   {
    "duration": 7,
    "start_time": "2023-08-31T18:07:43.322Z"
   },
   {
    "duration": 10,
    "start_time": "2023-08-31T18:11:21.551Z"
   },
   {
    "duration": 426,
    "start_time": "2023-09-03T09:04:43.641Z"
   },
   {
    "duration": 76,
    "start_time": "2023-09-03T09:04:44.069Z"
   },
   {
    "duration": 3,
    "start_time": "2023-09-03T09:04:44.146Z"
   },
   {
    "duration": 87,
    "start_time": "2023-09-03T09:04:44.151Z"
   },
   {
    "duration": 70,
    "start_time": "2023-09-03T09:04:44.239Z"
   },
   {
    "duration": 55,
    "start_time": "2023-09-03T09:04:44.310Z"
   },
   {
    "duration": 12,
    "start_time": "2023-09-03T09:04:44.367Z"
   },
   {
    "duration": 17,
    "start_time": "2023-09-03T09:04:44.381Z"
   },
   {
    "duration": 12,
    "start_time": "2023-09-03T09:04:44.400Z"
   },
   {
    "duration": 15,
    "start_time": "2023-09-03T09:04:44.415Z"
   },
   {
    "duration": 27,
    "start_time": "2023-09-03T09:04:44.432Z"
   },
   {
    "duration": 10,
    "start_time": "2023-09-03T09:04:44.460Z"
   },
   {
    "duration": 48,
    "start_time": "2023-09-03T09:04:44.471Z"
   },
   {
    "duration": 20,
    "start_time": "2023-09-03T09:04:44.521Z"
   },
   {
    "duration": 4,
    "start_time": "2023-09-03T09:04:44.543Z"
   },
   {
    "duration": 12,
    "start_time": "2023-09-03T09:04:44.548Z"
   },
   {
    "duration": 9,
    "start_time": "2023-09-03T09:04:44.561Z"
   },
   {
    "duration": 12,
    "start_time": "2023-09-03T09:04:44.572Z"
   },
   {
    "duration": 8,
    "start_time": "2023-09-03T09:04:44.585Z"
   },
   {
    "duration": 5,
    "start_time": "2023-09-03T09:04:44.594Z"
   },
   {
    "duration": 35,
    "start_time": "2023-09-03T09:04:44.601Z"
   },
   {
    "duration": 5,
    "start_time": "2023-09-03T09:04:44.638Z"
   },
   {
    "duration": 10,
    "start_time": "2023-09-03T09:04:44.645Z"
   },
   {
    "duration": 17,
    "start_time": "2023-09-03T09:04:44.657Z"
   },
   {
    "duration": 10,
    "start_time": "2023-09-03T09:04:44.677Z"
   },
   {
    "duration": 8,
    "start_time": "2023-09-03T09:04:44.689Z"
   },
   {
    "duration": 515,
    "start_time": "2023-09-03T09:04:44.699Z"
   },
   {
    "duration": 17,
    "start_time": "2023-09-03T09:04:45.218Z"
   },
   {
    "duration": 165,
    "start_time": "2023-09-03T09:04:45.237Z"
   },
   {
    "duration": 9,
    "start_time": "2023-09-03T09:04:45.404Z"
   },
   {
    "duration": 299,
    "start_time": "2023-09-03T09:04:45.414Z"
   },
   {
    "duration": 17,
    "start_time": "2023-09-03T09:04:45.715Z"
   },
   {
    "duration": 535,
    "start_time": "2023-09-03T09:04:45.733Z"
   },
   {
    "duration": 8,
    "start_time": "2023-09-03T09:04:46.270Z"
   },
   {
    "duration": 313,
    "start_time": "2023-09-03T09:04:46.280Z"
   },
   {
    "duration": 11,
    "start_time": "2023-09-03T09:04:46.595Z"
   },
   {
    "duration": 26,
    "start_time": "2023-09-03T09:04:46.608Z"
   },
   {
    "duration": 17,
    "start_time": "2023-09-03T09:04:46.635Z"
   },
   {
    "duration": 9,
    "start_time": "2023-09-03T09:04:46.653Z"
   },
   {
    "duration": 19,
    "start_time": "2023-09-03T09:04:46.663Z"
   },
   {
    "duration": 7,
    "start_time": "2023-09-03T09:04:46.683Z"
   },
   {
    "duration": 3,
    "start_time": "2023-09-03T09:04:46.692Z"
   },
   {
    "duration": 13,
    "start_time": "2023-09-03T09:04:46.728Z"
   },
   {
    "duration": 11,
    "start_time": "2023-09-03T09:04:46.742Z"
   },
   {
    "duration": 13,
    "start_time": "2023-09-03T09:04:46.754Z"
   },
   {
    "duration": 12,
    "start_time": "2023-09-03T09:04:46.768Z"
   },
   {
    "duration": 325,
    "start_time": "2023-09-03T09:04:46.782Z"
   },
   {
    "duration": 298,
    "start_time": "2023-09-03T09:04:47.109Z"
   },
   {
    "duration": 23,
    "start_time": "2023-09-03T09:04:47.409Z"
   },
   {
    "duration": 14,
    "start_time": "2023-09-03T09:04:47.433Z"
   },
   {
    "duration": 468,
    "start_time": "2023-09-03T09:04:47.449Z"
   },
   {
    "duration": 1176,
    "start_time": "2023-09-03T09:04:47.919Z"
   },
   {
    "duration": 567,
    "start_time": "2023-09-03T09:04:49.097Z"
   },
   {
    "duration": 8,
    "start_time": "2023-09-03T09:04:49.665Z"
   },
   {
    "duration": 27,
    "start_time": "2023-09-03T09:04:49.675Z"
   },
   {
    "duration": 38,
    "start_time": "2023-09-03T09:04:49.704Z"
   },
   {
    "duration": 5,
    "start_time": "2023-09-03T09:04:49.744Z"
   },
   {
    "duration": 10,
    "start_time": "2023-09-03T09:04:49.751Z"
   },
   {
    "duration": 16,
    "start_time": "2023-09-03T09:04:49.763Z"
   },
   {
    "duration": 17919,
    "start_time": "2023-09-03T09:04:49.781Z"
   },
   {
    "duration": 34,
    "start_time": "2023-09-03T09:05:07.702Z"
   },
   {
    "duration": 427,
    "start_time": "2023-09-03T09:05:07.740Z"
   },
   {
    "duration": 8,
    "start_time": "2023-09-03T09:05:08.169Z"
   },
   {
    "duration": 73,
    "start_time": "2023-09-03T09:05:08.179Z"
   },
   {
    "duration": 25,
    "start_time": "2023-09-03T09:05:08.253Z"
   },
   {
    "duration": 509,
    "start_time": "2023-09-03T09:09:33.601Z"
   },
   {
    "duration": 40,
    "start_time": "2023-09-03T09:09:34.112Z"
   },
   {
    "duration": 26,
    "start_time": "2023-09-03T09:09:34.154Z"
   },
   {
    "duration": 16,
    "start_time": "2023-09-03T09:09:34.182Z"
   },
   {
    "duration": 15,
    "start_time": "2023-09-03T09:09:34.199Z"
   },
   {
    "duration": 28,
    "start_time": "2023-09-03T09:09:34.216Z"
   },
   {
    "duration": 28,
    "start_time": "2023-09-03T09:09:34.246Z"
   },
   {
    "duration": 17,
    "start_time": "2023-09-03T09:09:34.276Z"
   },
   {
    "duration": 47,
    "start_time": "2023-09-03T09:09:34.295Z"
   },
   {
    "duration": 43,
    "start_time": "2023-09-03T09:09:34.345Z"
   },
   {
    "duration": 61,
    "start_time": "2023-09-03T09:09:34.390Z"
   },
   {
    "duration": 12,
    "start_time": "2023-09-03T09:09:34.453Z"
   },
   {
    "duration": 17,
    "start_time": "2023-09-03T09:09:34.467Z"
   },
   {
    "duration": 26,
    "start_time": "2023-09-03T09:09:34.486Z"
   },
   {
    "duration": 25,
    "start_time": "2023-09-03T09:09:34.514Z"
   },
   {
    "duration": 26,
    "start_time": "2023-09-03T09:09:34.544Z"
   },
   {
    "duration": 15,
    "start_time": "2023-09-03T09:09:34.572Z"
   },
   {
    "duration": 26,
    "start_time": "2023-09-03T09:09:34.588Z"
   },
   {
    "duration": 24,
    "start_time": "2023-09-03T09:09:34.616Z"
   },
   {
    "duration": 7,
    "start_time": "2023-09-03T09:09:34.642Z"
   },
   {
    "duration": 29,
    "start_time": "2023-09-03T09:09:34.651Z"
   },
   {
    "duration": 28,
    "start_time": "2023-09-03T09:09:34.682Z"
   },
   {
    "duration": 27,
    "start_time": "2023-09-03T09:09:34.712Z"
   },
   {
    "duration": 19,
    "start_time": "2023-09-03T09:09:34.741Z"
   },
   {
    "duration": 328,
    "start_time": "2023-09-03T09:09:34.762Z"
   },
   {
    "duration": 7,
    "start_time": "2023-09-03T09:09:35.092Z"
   },
   {
    "duration": 166,
    "start_time": "2023-09-03T09:09:35.100Z"
   },
   {
    "duration": 9,
    "start_time": "2023-09-03T09:09:35.272Z"
   },
   {
    "duration": 298,
    "start_time": "2023-09-03T09:09:35.283Z"
   },
   {
    "duration": 8,
    "start_time": "2023-09-03T09:09:35.583Z"
   },
   {
    "duration": 436,
    "start_time": "2023-09-03T09:09:35.593Z"
   },
   {
    "duration": 21,
    "start_time": "2023-09-03T09:09:36.031Z"
   },
   {
    "duration": 389,
    "start_time": "2023-09-03T09:09:36.055Z"
   },
   {
    "duration": 15,
    "start_time": "2023-09-03T09:09:36.446Z"
   },
   {
    "duration": 18,
    "start_time": "2023-09-03T09:09:36.464Z"
   },
   {
    "duration": 28,
    "start_time": "2023-09-03T09:09:36.484Z"
   },
   {
    "duration": 19,
    "start_time": "2023-09-03T09:09:36.514Z"
   },
   {
    "duration": 42,
    "start_time": "2023-09-03T09:09:36.538Z"
   },
   {
    "duration": 33,
    "start_time": "2023-09-03T09:09:36.582Z"
   },
   {
    "duration": 23,
    "start_time": "2023-09-03T09:09:36.617Z"
   },
   {
    "duration": 41,
    "start_time": "2023-09-03T09:09:36.641Z"
   },
   {
    "duration": 37,
    "start_time": "2023-09-03T09:09:36.684Z"
   },
   {
    "duration": 29,
    "start_time": "2023-09-03T09:09:36.723Z"
   },
   {
    "duration": 18,
    "start_time": "2023-09-03T09:09:36.754Z"
   },
   {
    "duration": 338,
    "start_time": "2023-09-03T09:09:36.773Z"
   },
   {
    "duration": 343,
    "start_time": "2023-09-03T09:09:37.113Z"
   },
   {
    "duration": 14,
    "start_time": "2023-09-03T09:09:37.458Z"
   },
   {
    "duration": 35,
    "start_time": "2023-09-03T09:09:37.473Z"
   },
   {
    "duration": 481,
    "start_time": "2023-09-03T09:09:37.509Z"
   },
   {
    "duration": 1147,
    "start_time": "2023-09-03T09:09:37.992Z"
   },
   {
    "duration": 517,
    "start_time": "2023-09-03T09:09:39.140Z"
   },
   {
    "duration": 7,
    "start_time": "2023-09-03T09:09:39.659Z"
   },
   {
    "duration": 139,
    "start_time": "2023-09-03T09:09:39.668Z"
   },
   {
    "duration": 31,
    "start_time": "2023-09-03T09:09:39.809Z"
   },
   {
    "duration": 5,
    "start_time": "2023-09-03T09:09:39.842Z"
   },
   {
    "duration": 17,
    "start_time": "2023-09-03T09:09:39.849Z"
   },
   {
    "duration": 17,
    "start_time": "2023-09-03T09:09:39.868Z"
   },
   {
    "duration": 18154,
    "start_time": "2023-09-03T09:09:39.887Z"
   },
   {
    "duration": 23,
    "start_time": "2023-09-03T09:09:58.042Z"
   },
   {
    "duration": 453,
    "start_time": "2023-09-03T09:09:58.066Z"
   },
   {
    "duration": 16,
    "start_time": "2023-09-03T09:09:58.525Z"
   },
   {
    "duration": 22,
    "start_time": "2023-09-03T09:09:58.543Z"
   },
   {
    "duration": 19,
    "start_time": "2023-09-03T09:09:58.567Z"
   },
   {
    "duration": 452,
    "start_time": "2023-09-03T17:42:02.684Z"
   },
   {
    "duration": 81,
    "start_time": "2023-09-03T17:42:03.138Z"
   },
   {
    "duration": 68,
    "start_time": "2023-09-03T17:42:03.220Z"
   },
   {
    "duration": 53,
    "start_time": "2023-09-03T17:42:03.289Z"
   },
   {
    "duration": 11,
    "start_time": "2023-09-03T17:42:03.343Z"
   },
   {
    "duration": 18,
    "start_time": "2023-09-03T17:42:03.355Z"
   },
   {
    "duration": 10,
    "start_time": "2023-09-03T17:42:03.375Z"
   },
   {
    "duration": 12,
    "start_time": "2023-09-03T17:42:03.386Z"
   },
   {
    "duration": 19,
    "start_time": "2023-09-03T17:42:03.399Z"
   },
   {
    "duration": 11,
    "start_time": "2023-09-03T17:42:03.420Z"
   },
   {
    "duration": 46,
    "start_time": "2023-09-03T17:42:03.433Z"
   },
   {
    "duration": 9,
    "start_time": "2023-09-03T17:42:03.480Z"
   },
   {
    "duration": 10,
    "start_time": "2023-09-03T17:42:03.490Z"
   },
   {
    "duration": 19,
    "start_time": "2023-09-03T17:42:03.501Z"
   },
   {
    "duration": 18,
    "start_time": "2023-09-03T17:42:03.521Z"
   },
   {
    "duration": 10,
    "start_time": "2023-09-03T17:42:03.540Z"
   },
   {
    "duration": 5,
    "start_time": "2023-09-03T17:42:03.551Z"
   },
   {
    "duration": 5,
    "start_time": "2023-09-03T17:42:03.557Z"
   },
   {
    "duration": 5,
    "start_time": "2023-09-03T17:42:03.563Z"
   },
   {
    "duration": 4,
    "start_time": "2023-09-03T17:42:03.570Z"
   },
   {
    "duration": 11,
    "start_time": "2023-09-03T17:42:03.575Z"
   },
   {
    "duration": 22,
    "start_time": "2023-09-03T17:42:03.588Z"
   },
   {
    "duration": 8,
    "start_time": "2023-09-03T17:42:03.612Z"
   },
   {
    "duration": 6,
    "start_time": "2023-09-03T17:42:03.622Z"
   },
   {
    "duration": 269,
    "start_time": "2023-09-03T17:42:03.650Z"
   },
   {
    "duration": 6,
    "start_time": "2023-09-03T17:42:03.920Z"
   },
   {
    "duration": 149,
    "start_time": "2023-09-03T17:42:03.927Z"
   },
   {
    "duration": 8,
    "start_time": "2023-09-03T17:42:04.081Z"
   },
   {
    "duration": 265,
    "start_time": "2023-09-03T17:42:04.090Z"
   },
   {
    "duration": 9,
    "start_time": "2023-09-03T17:42:04.357Z"
   },
   {
    "duration": 338,
    "start_time": "2023-09-03T17:42:04.368Z"
   },
   {
    "duration": 8,
    "start_time": "2023-09-03T17:42:04.708Z"
   },
   {
    "duration": 267,
    "start_time": "2023-09-03T17:42:04.718Z"
   },
   {
    "duration": 11,
    "start_time": "2023-09-03T17:42:04.987Z"
   },
   {
    "duration": 11,
    "start_time": "2023-09-03T17:42:04.999Z"
   },
   {
    "duration": 54,
    "start_time": "2023-09-03T17:42:05.012Z"
   },
   {
    "duration": 33,
    "start_time": "2023-09-03T17:42:05.068Z"
   },
   {
    "duration": 29,
    "start_time": "2023-09-03T17:42:05.103Z"
   },
   {
    "duration": 15,
    "start_time": "2023-09-03T17:42:05.134Z"
   },
   {
    "duration": 20,
    "start_time": "2023-09-03T17:42:05.150Z"
   },
   {
    "duration": 24,
    "start_time": "2023-09-03T17:42:05.172Z"
   },
   {
    "duration": 19,
    "start_time": "2023-09-03T17:42:05.197Z"
   },
   {
    "duration": 38,
    "start_time": "2023-09-03T17:42:05.218Z"
   },
   {
    "duration": 40,
    "start_time": "2023-09-03T17:42:05.257Z"
   },
   {
    "duration": 263,
    "start_time": "2023-09-03T17:42:05.298Z"
   },
   {
    "duration": 245,
    "start_time": "2023-09-03T17:42:05.562Z"
   },
   {
    "duration": 10,
    "start_time": "2023-09-03T17:42:05.809Z"
   },
   {
    "duration": 37,
    "start_time": "2023-09-03T17:42:05.820Z"
   },
   {
    "duration": 503,
    "start_time": "2023-09-03T17:42:05.858Z"
   },
   {
    "duration": 941,
    "start_time": "2023-09-03T17:42:06.362Z"
   },
   {
    "duration": 492,
    "start_time": "2023-09-03T17:42:07.304Z"
   },
   {
    "duration": 7,
    "start_time": "2023-09-03T17:42:07.798Z"
   },
   {
    "duration": 28,
    "start_time": "2023-09-03T17:42:07.806Z"
   },
   {
    "duration": 25,
    "start_time": "2023-09-03T17:42:07.835Z"
   },
   {
    "duration": 4,
    "start_time": "2023-09-03T17:42:07.861Z"
   },
   {
    "duration": 10,
    "start_time": "2023-09-03T17:42:07.867Z"
   },
   {
    "duration": 14,
    "start_time": "2023-09-03T17:42:07.878Z"
   },
   {
    "duration": 15613,
    "start_time": "2023-09-03T17:42:07.893Z"
   },
   {
    "duration": 13,
    "start_time": "2023-09-03T17:42:23.508Z"
   },
   {
    "duration": 404,
    "start_time": "2023-09-03T17:42:23.523Z"
   },
   {
    "duration": 8,
    "start_time": "2023-09-03T17:42:23.929Z"
   },
   {
    "duration": 15,
    "start_time": "2023-09-03T17:42:23.938Z"
   },
   {
    "duration": 11,
    "start_time": "2023-09-03T17:42:23.954Z"
   }
  ],
  "kernelspec": {
   "display_name": "Python 3 (ipykernel)",
   "language": "python",
   "name": "python3"
  },
  "language_info": {
   "codemirror_mode": {
    "name": "ipython",
    "version": 3
   },
   "file_extension": ".py",
   "mimetype": "text/x-python",
   "name": "python",
   "nbconvert_exporter": "python",
   "pygments_lexer": "ipython3",
   "version": "3.10.9"
  },
  "toc": {
   "base_numbering": 1,
   "nav_menu": {},
   "number_sections": true,
   "sideBar": true,
   "skip_h1_title": true,
   "title_cell": "Table of Contents",
   "title_sidebar": "Contents",
   "toc_cell": false,
   "toc_position": {},
   "toc_section_display": true,
   "toc_window_display": false
  }
 },
 "nbformat": 4,
 "nbformat_minor": 5
}
